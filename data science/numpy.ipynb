{
 "cells": [
  {
   "cell_type": "code",
   "execution_count": 57,
   "metadata": {},
   "outputs": [],
   "source": [
    "import numpy as np\n"
   ]
  },
  {
   "cell_type": "markdown",
   "metadata": {},
   "source": [
    "- crate \n",
    "- basic operation \n",
    "- math operation \n",
    "- indexing and slicing \n",
    "- boolean filter "
   ]
  },
  {
   "cell_type": "code",
   "execution_count": 58,
   "metadata": {},
   "outputs": [
    {
     "name": "stdout",
     "output_type": "stream",
     "text": [
      "[1 2 3 4 5] [ 6  7  8  9 10]\n"
     ]
    }
   ],
   "source": [
    "a = np.array ([1,2,3,4,5])\n",
    "b = np.array([6,7,8,9,10])\n",
    "print(a,b)"
   ]
  },
  {
   "cell_type": "code",
   "execution_count": 59,
   "metadata": {},
   "outputs": [
    {
     "name": "stdout",
     "output_type": "stream",
     "text": [
      "[ 7  9 11 13 15]\n",
      "[-5 -5 -5 -5 -5]\n",
      "[ 6 14 24 36 50]\n"
     ]
    }
   ],
   "source": [
    "print(a+b)\n",
    "print(a-b)\n",
    "print(a*b)"
   ]
  },
  {
   "cell_type": "code",
   "execution_count": 60,
   "metadata": {},
   "outputs": [
    {
     "name": "stdout",
     "output_type": "stream",
     "text": [
      "[[1 2 3]\n",
      " [2 3 4]]\n"
     ]
    },
    {
     "data": {
      "text/plain": [
       "(2, 3)"
      ]
     },
     "execution_count": 60,
     "metadata": {},
     "output_type": "execute_result"
    }
   ],
   "source": [
    "a = np.array(([1,2,3],[2,3,4]))\n",
    "print(a)\n",
    "a.shape\n"
   ]
  },
  {
   "cell_type": "code",
   "execution_count": 61,
   "metadata": {},
   "outputs": [
    {
     "name": "stdout",
     "output_type": "stream",
     "text": [
      "[[9 7 4 9 4]\n",
      " [1 4 7 5 6]\n",
      " [9 3 8 5 9]\n",
      " [8 6 9 9 2]\n",
      " [8 2 8 6 9]]\n"
     ]
    }
   ],
   "source": [
    "a = np.random.randint(1,10,size=(5,5))\n",
    "print(a)\n"
   ]
  },
  {
   "cell_type": "code",
   "execution_count": 62,
   "metadata": {},
   "outputs": [
    {
     "name": "stdout",
     "output_type": "stream",
     "text": [
      "[[0.0720576  0.02413862 0.5854819 ]\n",
      " [0.16593299 0.03727535 0.65182441]\n",
      " [0.3298893  0.41157662 0.72100338]]\n"
     ]
    }
   ],
   "source": [
    "a = np.random.rand(3,3)\n",
    "print(a)\n"
   ]
  },
  {
   "cell_type": "code",
   "execution_count": 80,
   "metadata": {},
   "outputs": [
    {
     "name": "stdout",
     "output_type": "stream",
     "text": [
      "[[1 2 3]\n",
      " [2 4 3]]\n",
      "[[1 2 3]\n",
      " [2 4 3]]\n",
      "[[2 4 6]\n",
      " [4 8 6]]\n",
      "[[ 1  4  9]\n",
      " [ 4 16  9]]\n",
      "[[0 0 0]\n",
      " [0 0 0]]\n",
      "[[1. 1. 1.]\n",
      " [1. 1. 1.]]\n"
     ]
    }
   ],
   "source": [
    "x = np.array([[1,2,3],[2,4,3]])\n",
    "y = np.array([[1,2,3],[2,4,3]])\n",
    "print(x)\n",
    "print(y)\n",
    "print(x+y)\n",
    "print(x*y)\n",
    "print(x-y)\n",
    "print(x/y)"
   ]
  },
  {
   "cell_type": "code",
   "execution_count": 64,
   "metadata": {},
   "outputs": [
    {
     "data": {
      "text/plain": [
       "2.5555555555555554"
      ]
     },
     "execution_count": 64,
     "metadata": {},
     "output_type": "execute_result"
    }
   ],
   "source": [
    "x.mean()"
   ]
  },
  {
   "cell_type": "code",
   "execution_count": 65,
   "metadata": {},
   "outputs": [
    {
     "data": {
      "text/plain": [
       "array([ 1,  6, 11, 16, 21, 26, 31, 36, 41, 46, 51, 56, 61, 66, 71, 76, 81,\n",
       "       86, 91, 96])"
      ]
     },
     "execution_count": 65,
     "metadata": {},
     "output_type": "execute_result"
    }
   ],
   "source": [
    "a = np.arange(1,100,5)\n",
    "a"
   ]
  },
  {
   "cell_type": "code",
   "execution_count": 66,
   "metadata": {},
   "outputs": [
    {
     "data": {
      "text/plain": [
       "array([ 0.        ,  5.55555556, 11.11111111, 16.66666667, 22.22222222,\n",
       "       27.77777778, 33.33333333, 38.88888889, 44.44444444, 50.        ])"
      ]
     },
     "execution_count": 66,
     "metadata": {},
     "output_type": "execute_result"
    }
   ],
   "source": [
    "# start , stop ,number_item\n",
    "np.linspace(0,50,10)"
   ]
  },
  {
   "cell_type": "markdown",
   "metadata": {},
   "source": [
    "array attributes \n",
    "- shape\n",
    "- dtype \n",
    "- ndim \n",
    "- size \n",
    "\n",
    "basic operation \n",
    "- sum \n",
    "- mean \n",
    "- std \n",
    "- max \n",
    "- min \n",
    "- reshape \n",
    "- transpose \n",
    "- flatten"
   ]
  },
  {
   "cell_type": "code",
   "execution_count": 67,
   "metadata": {},
   "outputs": [
    {
     "data": {
      "text/plain": [
       "dtype('float64')"
      ]
     },
     "execution_count": 67,
     "metadata": {},
     "output_type": "execute_result"
    }
   ],
   "source": [
    "x = np.random.rand(3,3)\n",
    "x.dtype"
   ]
  },
  {
   "cell_type": "code",
   "execution_count": 68,
   "metadata": {},
   "outputs": [
    {
     "data": {
      "text/plain": [
       "2"
      ]
     },
     "execution_count": 68,
     "metadata": {},
     "output_type": "execute_result"
    }
   ],
   "source": [
    "b = np.random.randint(1,5, (3,3))\n",
    "b.ndim"
   ]
  },
  {
   "cell_type": "code",
   "execution_count": 69,
   "metadata": {},
   "outputs": [
    {
     "name": "stdout",
     "output_type": "stream",
     "text": [
      "[6 9 5]\n"
     ]
    }
   ],
   "source": [
    "print(b.sum(axis = 1))"
   ]
  },
  {
   "cell_type": "code",
   "execution_count": 70,
   "metadata": {},
   "outputs": [
    {
     "data": {
      "text/plain": [
       "array([[2, 4, 9, 3],\n",
       "       [3, 1, 4, 6],\n",
       "       [6, 8, 1, 1],\n",
       "       [8, 5, 2, 9],\n",
       "       [2, 3, 3, 9]])"
      ]
     },
     "execution_count": 70,
     "metadata": {},
     "output_type": "execute_result"
    }
   ],
   "source": [
    "x = np.random.randint(1,10,(5,4)) # 5X5 matrix\n",
    "x "
   ]
  },
  {
   "cell_type": "code",
   "execution_count": 71,
   "metadata": {},
   "outputs": [
    {
     "data": {
      "text/plain": [
       "array([[2, 3, 6, 8, 2],\n",
       "       [4, 1, 8, 5, 3],\n",
       "       [9, 4, 1, 2, 3],\n",
       "       [3, 6, 1, 9, 9]])"
      ]
     },
     "execution_count": 71,
     "metadata": {},
     "output_type": "execute_result"
    }
   ],
   "source": [
    "x.transpose()"
   ]
  },
  {
   "cell_type": "code",
   "execution_count": 72,
   "metadata": {},
   "outputs": [
    {
     "data": {
      "text/plain": [
       "array([2, 4, 9, 3, 3, 1, 4, 6, 6, 8, 1, 1, 8, 5, 2, 9, 2, 3, 3, 9])"
      ]
     },
     "execution_count": 72,
     "metadata": {},
     "output_type": "execute_result"
    }
   ],
   "source": [
    "x.flatten()"
   ]
  },
  {
   "cell_type": "code",
   "execution_count": 75,
   "metadata": {},
   "outputs": [
    {
     "data": {
      "text/plain": [
       "array([[2, 4, 9, 3, 3, 1, 4, 6, 6, 8],\n",
       "       [1, 1, 8, 5, 2, 9, 2, 3, 3, 9]])"
      ]
     },
     "execution_count": 75,
     "metadata": {},
     "output_type": "execute_result"
    }
   ],
   "source": [
    "x.reshape(2,10)"
   ]
  },
  {
   "cell_type": "code",
   "execution_count": 82,
   "metadata": {},
   "outputs": [
    {
     "name": "stdout",
     "output_type": "stream",
     "text": [
      "[-9 -4  1  6 11 16 21 26 31 36 41 46 51 56 61 66 71 76 81 86]\n",
      "[0.1 0.6 1.1 1.6 2.1 2.6 3.1 3.6 4.1 4.6 5.1 5.6 6.1 6.6 7.1 7.6 8.1 8.6\n",
      " 9.1 9.6]\n",
      "[ 10  60 110 160 210 260 310 360 410 460 510 560 610 660 710 760 810 860\n",
      " 910 960]\n",
      "[ 11  16  21  26  31  36  41  46  51  56  61  66  71  76  81  86  91  96\n",
      " 101 106]\n"
     ]
    }
   ],
   "source": [
    "print(a-10)\n",
    "print(a/10)\n",
    "print(a*10)\n",
    "print(a+10)"
   ]
  },
  {
   "cell_type": "code",
   "execution_count": 83,
   "metadata": {},
   "outputs": [
    {
     "name": "stdout",
     "output_type": "stream",
     "text": [
      "[[6 5 9 5 3]\n",
      " [1 8 2 8 9]\n",
      " [3 7 6 1 9]\n",
      " [6 5 3 7 8]\n",
      " [9 7 4 9 9]]\n"
     ]
    }
   ],
   "source": [
    "x = np.random.randint(1,10,(5,5)) # 5X5 matrix\n",
    "print(x)"
   ]
  },
  {
   "cell_type": "code",
   "execution_count": 84,
   "metadata": {},
   "outputs": [
    {
     "name": "stdout",
     "output_type": "stream",
     "text": [
      "[[1 8 2 8 9]\n",
      " [3 7 6 1 9]]\n"
     ]
    }
   ],
   "source": [
    "print(x[1:3])"
   ]
  },
  {
   "cell_type": "code",
   "execution_count": 85,
   "metadata": {},
   "outputs": [
    {
     "name": "stdout",
     "output_type": "stream",
     "text": [
      "[6 1 3 6 9]\n"
     ]
    }
   ],
   "source": [
    "print(x[:,0])\n"
   ]
  },
  {
   "cell_type": "code",
   "execution_count": 86,
   "metadata": {},
   "outputs": [
    {
     "name": "stdout",
     "output_type": "stream",
     "text": [
      "[[6 5]\n",
      " [1 8]\n",
      " [3 7]\n",
      " [6 5]\n",
      " [9 7]]\n"
     ]
    }
   ],
   "source": [
    "print(x[:,:2])\n"
   ]
  },
  {
   "cell_type": "code",
   "execution_count": 87,
   "metadata": {},
   "outputs": [
    {
     "name": "stdout",
     "output_type": "stream",
     "text": [
      "[[8 2 8]\n",
      " [7 6 1]\n",
      " [5 3 7]]\n"
     ]
    }
   ],
   "source": [
    "\n",
    "print(x[1:-1,1:-1])"
   ]
  },
  {
   "cell_type": "code",
   "execution_count": 88,
   "metadata": {},
   "outputs": [
    {
     "name": "stdout",
     "output_type": "stream",
     "text": [
      "[[6 5 9 5]\n",
      " [1 8 2 8]\n",
      " [3 7 6 1]\n",
      " [6 5 3 7]\n",
      " [9 7 4 9]]\n"
     ]
    }
   ],
   "source": [
    "print(x[:,:-1])"
   ]
  },
  {
   "cell_type": "code",
   "execution_count": 94,
   "metadata": {},
   "outputs": [
    {
     "name": "stdout",
     "output_type": "stream",
     "text": [
      "[[8 2 8]\n",
      " [7 6 1]\n",
      " [5 3 7]]\n"
     ]
    }
   ],
   "source": [
    "print(x[1:-1,1:-1])"
   ]
  },
  {
   "cell_type": "code",
   "execution_count": null,
   "metadata": {},
   "outputs": [],
   "source": []
  }
 ],
 "metadata": {
  "kernelspec": {
   "display_name": "base",
   "language": "python",
   "name": "python3"
  },
  "language_info": {
   "codemirror_mode": {
    "name": "ipython",
    "version": 3
   },
   "file_extension": ".py",
   "mimetype": "text/x-python",
   "name": "python",
   "nbconvert_exporter": "python",
   "pygments_lexer": "ipython3",
   "version": "3.12.3"
  }
 },
 "nbformat": 4,
 "nbformat_minor": 2
}
