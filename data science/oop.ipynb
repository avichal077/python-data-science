{
 "cells": [
  {
   "cell_type": "code",
   "execution_count": 1,
   "metadata": {},
   "outputs": [
    {
     "name": "stdout",
     "output_type": "stream",
     "text": [
      "12 <class 'int'>\n"
     ]
    }
   ],
   "source": [
    "x = 12\n",
    "print(x,type(x))"
   ]
  },
  {
   "cell_type": "markdown",
   "metadata": {},
   "source": [
    "OOP\n",
    "- class✅\n",
    "- object ✅\n",
    "- inheritance ✅\n",
    "- polymorphysim❌\n",
    "- encapsulation❌\n",
    "- abstraction❌"
   ]
  },
  {
   "cell_type": "code",
   "execution_count": 2,
   "metadata": {},
   "outputs": [
    {
     "name": "stdout",
     "output_type": "stream",
     "text": [
      "<class 'str'>\n"
     ]
    }
   ],
   "source": [
    "name = 'john'\n",
    "print(type(name))"
   ]
  },
  {
   "cell_type": "markdown",
   "metadata": {},
   "source": [
    "class - blueprint for creating objects\n",
    "- properties / attributes/fields\\\n",
    "- methods/functions\n",
    "- constructor (special method)\n",
    "syntax\n",
    "```\n",
    "class  ClassName:\n",
    "     properties 1\n",
    "     properties 2\n",
    "     properties n\n",
    "\n",
    "     def method1():\n",
    "            statements\n",
    "     def method2():\n",
    "            statements\n",
    "     def methodn():\n",
    "             statements"
   ]
  },
  {
   "cell_type": "code",
   "execution_count": 5,
   "metadata": {},
   "outputs": [],
   "source": [
    "class Nothing:\n",
    "    pass"
   ]
  },
  {
   "cell_type": "code",
   "execution_count": 6,
   "metadata": {},
   "outputs": [
    {
     "name": "stdout",
     "output_type": "stream",
     "text": [
      "<class '__main__.Nothing'>\n"
     ]
    }
   ],
   "source": [
    "print(Nothing)"
   ]
  },
  {
   "cell_type": "code",
   "execution_count": 7,
   "metadata": {},
   "outputs": [],
   "source": [
    "class Book:\n",
    "    title = \"\"\n",
    "    author = \"\""
   ]
  },
  {
   "cell_type": "code",
   "execution_count": 8,
   "metadata": {},
   "outputs": [
    {
     "data": {
      "text/plain": [
       "['__class__',\n",
       " '__delattr__',\n",
       " '__dict__',\n",
       " '__dir__',\n",
       " '__doc__',\n",
       " '__eq__',\n",
       " '__format__',\n",
       " '__ge__',\n",
       " '__getattribute__',\n",
       " '__getstate__',\n",
       " '__gt__',\n",
       " '__hash__',\n",
       " '__init__',\n",
       " '__init_subclass__',\n",
       " '__le__',\n",
       " '__lt__',\n",
       " '__module__',\n",
       " '__ne__',\n",
       " '__new__',\n",
       " '__reduce__',\n",
       " '__reduce_ex__',\n",
       " '__repr__',\n",
       " '__setattr__',\n",
       " '__sizeof__',\n",
       " '__str__',\n",
       " '__subclasshook__',\n",
       " '__weakref__',\n",
       " 'author',\n",
       " 'title']"
      ]
     },
     "execution_count": 8,
     "metadata": {},
     "output_type": "execute_result"
    }
   ],
   "source": [
    "dir(Book)"
   ]
  },
  {
   "cell_type": "code",
   "execution_count": 9,
   "metadata": {},
   "outputs": [
    {
     "data": {
      "text/plain": [
       "['__add__',\n",
       " '__class__',\n",
       " '__contains__',\n",
       " '__delattr__',\n",
       " '__dir__',\n",
       " '__doc__',\n",
       " '__eq__',\n",
       " '__format__',\n",
       " '__ge__',\n",
       " '__getattribute__',\n",
       " '__getitem__',\n",
       " '__getnewargs__',\n",
       " '__getstate__',\n",
       " '__gt__',\n",
       " '__hash__',\n",
       " '__init__',\n",
       " '__init_subclass__',\n",
       " '__iter__',\n",
       " '__le__',\n",
       " '__len__',\n",
       " '__lt__',\n",
       " '__mod__',\n",
       " '__mul__',\n",
       " '__ne__',\n",
       " '__new__',\n",
       " '__reduce__',\n",
       " '__reduce_ex__',\n",
       " '__repr__',\n",
       " '__rmod__',\n",
       " '__rmul__',\n",
       " '__setattr__',\n",
       " '__sizeof__',\n",
       " '__str__',\n",
       " '__subclasshook__',\n",
       " 'capitalize',\n",
       " 'casefold',\n",
       " 'center',\n",
       " 'count',\n",
       " 'encode',\n",
       " 'endswith',\n",
       " 'expandtabs',\n",
       " 'find',\n",
       " 'format',\n",
       " 'format_map',\n",
       " 'index',\n",
       " 'isalnum',\n",
       " 'isalpha',\n",
       " 'isascii',\n",
       " 'isdecimal',\n",
       " 'isdigit',\n",
       " 'isidentifier',\n",
       " 'islower',\n",
       " 'isnumeric',\n",
       " 'isprintable',\n",
       " 'isspace',\n",
       " 'istitle',\n",
       " 'isupper',\n",
       " 'join',\n",
       " 'ljust',\n",
       " 'lower',\n",
       " 'lstrip',\n",
       " 'maketrans',\n",
       " 'partition',\n",
       " 'removeprefix',\n",
       " 'removesuffix',\n",
       " 'replace',\n",
       " 'rfind',\n",
       " 'rindex',\n",
       " 'rjust',\n",
       " 'rpartition',\n",
       " 'rsplit',\n",
       " 'rstrip',\n",
       " 'split',\n",
       " 'splitlines',\n",
       " 'startswith',\n",
       " 'strip',\n",
       " 'swapcase',\n",
       " 'title',\n",
       " 'translate',\n",
       " 'upper',\n",
       " 'zfill']"
      ]
     },
     "execution_count": 9,
     "metadata": {},
     "output_type": "execute_result"
    }
   ],
   "source": [
    "dir(str)"
   ]
  },
  {
   "cell_type": "code",
   "execution_count": 10,
   "metadata": {},
   "outputs": [],
   "source": [
    "b1 = Book()"
   ]
  },
  {
   "cell_type": "code",
   "execution_count": 11,
   "metadata": {},
   "outputs": [
    {
     "data": {
      "text/plain": [
       "['__class__',\n",
       " '__delattr__',\n",
       " '__dict__',\n",
       " '__dir__',\n",
       " '__doc__',\n",
       " '__eq__',\n",
       " '__format__',\n",
       " '__ge__',\n",
       " '__getattribute__',\n",
       " '__getstate__',\n",
       " '__gt__',\n",
       " '__hash__',\n",
       " '__init__',\n",
       " '__init_subclass__',\n",
       " '__le__',\n",
       " '__lt__',\n",
       " '__module__',\n",
       " '__ne__',\n",
       " '__new__',\n",
       " '__reduce__',\n",
       " '__reduce_ex__',\n",
       " '__repr__',\n",
       " '__setattr__',\n",
       " '__sizeof__',\n",
       " '__str__',\n",
       " '__subclasshook__',\n",
       " '__weakref__',\n",
       " 'author',\n",
       " 'title']"
      ]
     },
     "execution_count": 11,
     "metadata": {},
     "output_type": "execute_result"
    }
   ],
   "source": [
    "dir(Book)"
   ]
  },
  {
   "cell_type": "code",
   "execution_count": 13,
   "metadata": {},
   "outputs": [
    {
     "name": "stdout",
     "output_type": "stream",
     "text": [
      "<__main__.Book object at 0x000001DB0DFF12E0>\n",
      "word of radiance\n",
      "brandon sanderson\n",
      "<__main__.Book object at 0x000001DB0DF80140>\n",
      "word of radiance\n",
      "brandon sanderson\n"
     ]
    }
   ],
   "source": [
    "# obj = class()\n",
    "b1 = Book()\n",
    "print(b1)\n",
    "b1.title = \"word of radiance\"\n",
    "b1.author=\"brandon sanderson\"\n",
    "print(b1.title)\n",
    "print(b1.author)\n",
    "\n",
    "b2 = Book()\n",
    "b2.title = \"the way of kings\"\n",
    "b2.author=\"brandon sanderson\"\n",
    "print(b2)\n",
    "print(b1.title)\n",
    "print(b1.author)"
   ]
  },
  {
   "cell_type": "code",
   "execution_count": 14,
   "metadata": {},
   "outputs": [
    {
     "ename": "SyntaxError",
     "evalue": "invalid syntax (691030426.py, line 2)",
     "output_type": "error",
     "traceback": [
      "\u001b[1;36m  Cell \u001b[1;32mIn[14], line 2\u001b[1;36m\u001b[0m\n\u001b[1;33m    def__init__(msg,self,s,m,n,p,hs,dp,p):\u001b[0m\n\u001b[1;37m                                         ^\u001b[0m\n\u001b[1;31mSyntaxError\u001b[0m\u001b[1;31m:\u001b[0m invalid syntax\n"
     ]
    }
   ],
   "source": [
    "class ChatMessage :\n",
    "    def__init__(msg,self,s,m,n,p,hs,dp,p):\n",
    "        sender =  c\n",
    "        last_msg = msg\n",
    "        dp notif = 0\n",
    "        pinned = False\n",
    "        muted = False\n",
    "        has_status = False\n",
    "\n",
    "cm1 = ChatMessage()\n",
    "cm2 = ChatMessage()"
   ]
  },
  {
   "cell_type": "markdown",
   "metadata": {},
   "source": [
    "inheritance\n",
    "- multi - level inheritance (A -> B -> C)\n",
    "```\n",
    "class SuperClass()\n",
    "pass\n",
    "class SuperClass(SuperClass)\n",
    "pass \n",
    "class SuperClass(SuperClass)\n",
    "\n"
   ]
  },
  {
   "cell_type": "code",
   "execution_count": 7,
   "metadata": {},
   "outputs": [],
   "source": [
    "class Vehicle:\n",
    "    def __init__(self,brand,model) :\n",
    "        self.brand = brand\n",
    "        self.model = model\n",
    "    def display(self):\n",
    "        print(f\"{self.brand}-{self.model}\")"
   ]
  },
  {
   "cell_type": "code",
   "execution_count": 8,
   "metadata": {},
   "outputs": [],
   "source": [
    "class Car(Vehicle):\n",
    "    def __init__(self,brand,model,cartype,seats):\n",
    "        super().__init__(brand,model)\n",
    "        self.cartype = cartype\n",
    "        self.seats = seats   "
   ]
  },
  {
   "cell_type": "code",
   "execution_count": 9,
   "metadata": {},
   "outputs": [
    {
     "name": "stdout",
     "output_type": "stream",
     "text": [
      "toyota-corolla\n",
      "honda-sivin\n"
     ]
    }
   ],
   "source": [
    "c1 = Car(\"toyota\",\"corolla\",\"seden\",5)\n",
    "c2 = Car(\"honda\",\"sivin\",\"sesedan\",5)\n",
    "c1.display()\n",
    "c2.display()"
   ]
  },
  {
   "cell_type": "code",
   "execution_count": 11,
   "metadata": {},
   "outputs": [],
   "source": [
    "class SuperList(list):\n",
    "    def __init__(self , *args):\n",
    "        super().__init__(*args)\n",
    "    def sum(self):\n",
    "        clean_list = [x for x in self if isinstance(x,int)]\n",
    "        return sum(clean_list)\n",
    "   \n",
    "        "
   ]
  },
  {
   "cell_type": "code",
   "execution_count": 12,
   "metadata": {},
   "outputs": [
    {
     "name": "stdout",
     "output_type": "stream",
     "text": [
      "[1, 2, 3, 4, 5]\n",
      "15\n"
     ]
    }
   ],
   "source": [
    "x = SuperList([1,2,3,4,5])\n",
    "print(x)\n",
    "print(x.sum())\n"
   ]
  },
  {
   "cell_type": "code",
   "execution_count": 18,
   "metadata": {},
   "outputs": [],
   "source": [
    "# multiple inheritance \n",
    "import random \n",
    "class wizard:\n",
    "    def __init__(self,spells):\n",
    "        self.spells = spells\n",
    "    def cast_spell(self):\n",
    "        print(f\"casting spell {random.choice(self.spells)}\")\n",
    "class warrior:\n",
    "    def __init__(self,weapons):\n",
    "        self.weapons = weapons\n",
    "    def attack (self):\n",
    "        print(f\"attacking wth {random.choice(self.weapons)}\")\n",
    "class battlemage(wizard , warrior):\n",
    "    def __init__(self, spells , weapons):\n",
    "        wizard.__init__(self,spells)\n",
    "        warrior.__init__(self,weapons)\n",
    "    def fight(self):\n",
    "        self.cast_spell()\n",
    "        self.attack()"
   ]
  },
  {
   "cell_type": "code",
   "execution_count": 19,
   "metadata": {},
   "outputs": [
    {
     "name": "stdout",
     "output_type": "stream",
     "text": [
      "warrior\n",
      "attacking wth mace\n",
      "wizard\n",
      "casting spell iceball\n",
      "battlemage\n",
      "casting spell fireball\n",
      "attacking wth sword\n"
     ]
    }
   ],
   "source": [
    "w = warrior([\"sword\",\"axe\",\"mace\"])\n",
    "wz=wizard([\"fireball\",\"iceball\",\"lightning\"])\n",
    "bm = battlemage([\"fireball\",\"iceball\",\"lightning\"],[\"sword\",\"axe\",\"mace\"])\n",
    "print(\"warrior\")\n",
    "w.attack()\n",
    "print(\"wizard\")\n",
    "wz.cast_spell()\n",
    "print(\"battlemage\")\n",
    "bm.fight()"
   ]
  },
  {
   "cell_type": "code",
   "execution_count": null,
   "metadata": {},
   "outputs": [],
   "source": []
  }
 ],
 "metadata": {
  "kernelspec": {
   "display_name": "base",
   "language": "python",
   "name": "python3"
  },
  "language_info": {
   "codemirror_mode": {
    "name": "ipython",
    "version": 3
   },
   "file_extension": ".py",
   "mimetype": "text/x-python",
   "name": "python",
   "nbconvert_exporter": "python",
   "pygments_lexer": "ipython3",
   "version": "3.12.3"
  }
 },
 "nbformat": 4,
 "nbformat_minor": 2
}
