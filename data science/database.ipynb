{
 "cells": [
  {
   "cell_type": "code",
   "execution_count": 1,
   "metadata": {},
   "outputs": [],
   "source": [
    "from sqlalchemy import create_engine\n",
    "from sqlalchemy.orm import sessionmaker,declarative_base ,declarative_base\n",
    "from sqlalchemy import Column , Integer , String , DateTime\n",
    "from datetime import datetime\n"
   ]
  },
  {
   "cell_type": "code",
   "execution_count": 2,
   "metadata": {},
   "outputs": [],
   "source": [
    "Base = declarative_base()\n",
    "class Task(Base):\n",
    "    __tablename__ = 'tasks'\n",
    "    id = Column(Integer , primary_key = True)\n",
    "    task = Column(String)\n",
    "    deadline = Column(DateTime, default = datetime.now())"
   ]
  },
  {
   "cell_type": "code",
   "execution_count": 3,
   "metadata": {},
   "outputs": [
    {
     "name": "stdout",
     "output_type": "stream",
     "text": [
      "2024-08-16 18:06:55,945 INFO sqlalchemy.engine.Engine BEGIN (implicit)\n",
      "2024-08-16 18:06:55,948 INFO sqlalchemy.engine.Engine PRAGMA main.table_info(\"tasks\")\n",
      "2024-08-16 18:06:55,963 INFO sqlalchemy.engine.Engine [raw sql] ()\n",
      "2024-08-16 18:06:55,972 INFO sqlalchemy.engine.Engine COMMIT\n"
     ]
    }
   ],
   "source": [
    "engine = create_engine(\"sqlite:///mybd.sqlite3\" , echo = True)\n",
    "Base.metadata.create_all(engine)"
   ]
  },
  {
   "cell_type": "code",
   "execution_count": 4,
   "metadata": {},
   "outputs": [],
   "source": [
    "def open_db():\n",
    "    engine = create_engine(\"sqlite:///mybd.sqlite3\" )\n",
    "    Session = sessionmaker(bind = engine)\n",
    "    return Session()"
   ]
  },
  {
   "cell_type": "code",
   "execution_count": 5,
   "metadata": {},
   "outputs": [],
   "source": [
    "db = open_db()\n",
    "db.add(Task(task = 'learn sqlalchemy', deadline = datetime(2024,8,1)))\n",
    "db.add(Task(task = 'happy independence day'))\n",
    "db.commit()\n",
    "db.close()\n"
   ]
  },
  {
   "cell_type": "code",
   "execution_count": 11,
   "metadata": {},
   "outputs": [
    {
     "name": "stdout",
     "output_type": "stream",
     "text": [
      "#1 | learn sqlalchemy               | 2024-08-01|00:00:00\n",
      "#2 | happy independence day         | 2024-08-16|18:05:54.698896\n",
      "#3 | learn sqlalchemy               | 2024-08-01|00:00:00\n",
      "#4 | happy independence day         | 2024-08-16|18:06:55.712396\n"
     ]
    }
   ],
   "source": [
    "db = open_db()\n",
    "tasks = db.query(Task).all()\n",
    "for item in tasks:\n",
    "    print(f'#{item.id} | {item.task:30} | {item.deadline.date()}|{item.deadline.time()}')\n",
    "db.close()"
   ]
  },
  {
   "cell_type": "code",
   "execution_count": 17,
   "metadata": {},
   "outputs": [],
   "source": [
    "# get item by id \n",
    "id = 6 \n",
    "db = open_db()\n",
    "task = db.get(Task , id)\n",
    "if task:\n",
    "    print(f'#{item.id} | {item.task:30} | {item.deadline.date()}|{item.deadline.time()}')\n",
    "db.close()"
   ]
  },
  {
   "cell_type": "code",
   "execution_count": 16,
   "metadata": {},
   "outputs": [],
   "source": [
    "# filter item by title \n",
    "title = \"Take out the trash\"\n",
    "db = open_db()\n",
    "tasks= db.query(Task).filter(Task.task == title).all()\n",
    "for item in tasks :\n",
    "    print(f'#{item.id} | {item.task:30} | {item.deadline.date()}|{item.deadline.time()}')\n",
    "db.close()"
   ]
  },
  {
   "cell_type": "code",
   "execution_count": 19,
   "metadata": {},
   "outputs": [],
   "source": [
    "# filter item by date \n",
    "date = \"16-08-2024\"\n",
    "date = datetime.strptime(date , \"%d-%m-%Y\")\n",
    "db = open_db()\n",
    "tasks= db.query(Task).filter(Task.task == title).all()\n",
    "for item in tasks :\n",
    "    print(f'#{item.id} | {item.task:30} | {item.deadline.date()}|{item.deadline.time()}')\n",
    "db.close()"
   ]
  },
  {
   "cell_type": "code",
   "execution_count": 20,
   "metadata": {},
   "outputs": [],
   "source": [
    "id = 7 \n",
    "db = open_db()\n",
    "result = db.get(Task,id)\n",
    "if result:\n",
    "    result.task = \"Generate  student reports\"\n",
    "    result.deadline = datetime(2024 , 8 , 20)\n",
    "    db.commit()\n",
    "db.close()"
   ]
  },
  {
   "cell_type": "code",
   "execution_count": 21,
   "metadata": {},
   "outputs": [],
   "source": [
    "id = 6\n",
    "db = open_db()\n",
    "result = db.get(Task,id)\n",
    "if result:\n",
    "    db.delete(result)\n",
    "    db.commit()\n",
    "    print(\"item deleted\")\n",
    "db.close()"
   ]
  },
  {
   "cell_type": "code",
   "execution_count": null,
   "metadata": {},
   "outputs": [],
   "source": []
  }
 ],
 "metadata": {
  "kernelspec": {
   "display_name": "base",
   "language": "python",
   "name": "python3"
  },
  "language_info": {
   "codemirror_mode": {
    "name": "ipython",
    "version": 3
   },
   "file_extension": ".py",
   "mimetype": "text/x-python",
   "name": "python",
   "nbconvert_exporter": "python",
   "pygments_lexer": "ipython3",
   "version": "3.12.3"
  }
 },
 "nbformat": 4,
 "nbformat_minor": 2
}
