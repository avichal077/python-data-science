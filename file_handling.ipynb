{
 "cells": [
  {
   "cell_type": "markdown",
   "metadata": {},
   "source": [
    "## File Handling\n",
    "- folders and file listing\n",
    "    - simple\n",
    "    - recursive\n",
    "    \n",
    "- file reading\n",
    "- file writing\n",
    "- adding text to a file\n"
   ]
  },
  {
   "cell_type": "code",
   "execution_count": 1,
   "metadata": {},
   "outputs": [],
   "source": [
    "import os\n"
   ]
  },
  {
   "cell_type": "code",
   "execution_count": 2,
   "metadata": {},
   "outputs": [
    {
     "name": "stdout",
     "output_type": "stream",
     "text": [
      "Your screenshots are found\n",
      "Your screenshots are found\n"
     ]
    }
   ],
   "source": [
    "addr=r'c:\\Users\\Lenovo\\Downloads\\PYTHONDATASCIENCE'\n",
    "if os.path.exists(addr):\n",
    "    print(\"Your screenshots are found\")\n",
    "else:\n",
    "    print(\"Not Found\")                                                       \n",
    "if os.path.exists(addr):\n",
    "    print(\"Your screenshots are found\")\n",
    "else:\n",
    "    print(\"Not Found\")"
   ]
  },
  {
   "cell_type": "code",
   "execution_count": 3,
   "metadata": {},
   "outputs": [
    {
     "name": "stdout",
     "output_type": "stream",
     "text": [
      "c:\\Users\\Lenovo\\Downloads\\PYTHONDATASCIENCE\n"
     ]
    }
   ],
   "source": [
    "os.chdir(addr) # changing the directory to the given address\n",
    "print(os.getcwd()) # printing the current working directory"
   ]
  },
  {
   "cell_type": "code",
   "execution_count": 4,
   "metadata": {},
   "outputs": [
    {
     "name": "stdout",
     "output_type": "stream",
     "text": [
      "23\n",
      "app.py\n",
      "basics.ipynb\n",
      "Canada.xlsx\n",
      "dashboard.py\n",
      "data_structures.ipynb\n",
      "dummy.csv\n",
      "dummy.json\n",
      "file_handling.ipynb\n",
      "flow.ipynb\n",
      "functions.ipynb\n",
      "list_questions.ipynb\n",
      "login.py\n",
      "loop.ipynb\n",
      "numpy.ipynb\n",
      "one.txt\n",
      "pandas.ipynb\n",
      "practice.ipynb\n",
      "sin_cosine.png\n",
      "sin_cosone.png\n",
      "story.py\n",
      "strings.ipynb\n"
     ]
    }
   ],
   "source": [
    "files=os.listdir()\n",
    "print(len(files))\n",
    "for i in files:\n",
    "    if os.path.isfile(i):\n",
    "         print(i)"
   ]
  },
  {
   "cell_type": "code",
   "execution_count": 5,
   "metadata": {},
   "outputs": [
    {
     "data": {
      "text/plain": [
       "['.git',\n",
       " 'app.py',\n",
       " 'basics.ipynb',\n",
       " 'Canada.xlsx',\n",
       " 'dashboard.py',\n",
       " 'data_structures.ipynb',\n",
       " 'dummy.csv',\n",
       " 'dummy.json',\n",
       " 'file_handling.ipynb',\n",
       " 'flow.ipynb',\n",
       " 'functions.ipynb',\n",
       " 'list_questions.ipynb',\n",
       " 'login.py',\n",
       " 'loop.ipynb',\n",
       " 'numpy.ipynb',\n",
       " 'one.txt',\n",
       " 'pandas.ipynb',\n",
       " 'practice.ipynb',\n",
       " 'secret',\n",
       " 'sin_cosine.png',\n",
       " 'sin_cosone.png',\n",
       " 'story.py',\n",
       " 'strings.ipynb']"
      ]
     },
     "execution_count": 5,
     "metadata": {},
     "output_type": "execute_result"
    }
   ],
   "source": [
    "os.listdir()"
   ]
  },
  {
   "cell_type": "code",
   "execution_count": 6,
   "metadata": {},
   "outputs": [
    {
     "name": "stdout",
     "output_type": "stream",
     "text": [
      "c:\\Users\\Lenovo\\Downloads\\PYTHONDATASCIENCE\n"
     ]
    }
   ],
   "source": [
    "BASE_DIR=os.getcwd() # current working directory\n",
    "print(BASE_DIR)"
   ]
  },
  {
   "cell_type": "code",
   "execution_count": 7,
   "metadata": {},
   "outputs": [
    {
     "name": "stdout",
     "output_type": "stream",
     "text": [
      "c:\\Users\\Lenovo\\Downloads\\PYTHONDATASCIENCE\n"
     ]
    }
   ],
   "source": [
    "# creating a new folder\n",
    "os.chdir(BASE_DIR)\n",
    "print(os.getcwd())"
   ]
  },
  {
   "cell_type": "code",
   "execution_count": 8,
   "metadata": {},
   "outputs": [],
   "source": [
    "os.makedirs(\"secret/files\",exist_ok = True)# changing the directory to the given address"
   ]
  },
  {
   "cell_type": "code",
   "execution_count": 9,
   "metadata": {},
   "outputs": [],
   "source": [
    "os.chdir(\"secret/files\")"
   ]
  },
  {
   "cell_type": "code",
   "execution_count": 10,
   "metadata": {},
   "outputs": [],
   "source": [
    "def read_files(path):\n",
    "    with open(path) as file:\n",
    "        content = file.read()\n",
    "    return content"
   ]
  },
  {
   "cell_type": "code",
   "execution_count": 11,
   "metadata": {},
   "outputs": [
    {
     "data": {
      "text/plain": [
       "['sample.txt']"
      ]
     },
     "execution_count": 11,
     "metadata": {},
     "output_type": "execute_result"
    }
   ],
   "source": [
    "os.listdir()"
   ]
  },
  {
   "cell_type": "code",
   "execution_count": 12,
   "metadata": {},
   "outputs": [
    {
     "name": "stdout",
     "output_type": "stream",
     "text": [
      "\u001b[1;31mSignature:\u001b[0m \u001b[0mos\u001b[0m\u001b[1;33m.\u001b[0m\u001b[0mremove\u001b[0m\u001b[1;33m(\u001b[0m\u001b[0mpath\u001b[0m\u001b[1;33m,\u001b[0m \u001b[1;33m*\u001b[0m\u001b[1;33m,\u001b[0m \u001b[0mdir_fd\u001b[0m\u001b[1;33m=\u001b[0m\u001b[1;32mNone\u001b[0m\u001b[1;33m)\u001b[0m\u001b[1;33m\u001b[0m\u001b[1;33m\u001b[0m\u001b[0m\n",
      "\u001b[1;31mDocstring:\u001b[0m\n",
      "Remove a file (same as unlink()).\n",
      "\n",
      "If dir_fd is not None, it should be a file descriptor open to a directory,\n",
      "  and path should be relative; path will then be relative to that directory.\n",
      "dir_fd may not be implemented on your platform.\n",
      "  If it is unavailable, using it will raise a NotImplementedError.\n",
      "\u001b[1;31mType:\u001b[0m      builtin_function_or_method"
     ]
    }
   ],
   "source": [
    "os.remove?"
   ]
  },
  {
   "cell_type": "code",
   "execution_count": 13,
   "metadata": {},
   "outputs": [
    {
     "name": "stdout",
     "output_type": "stream",
     "text": [
      "asd \n",
      "asd asdas\n",
      "dsa\n"
     ]
    }
   ],
   "source": [
    "data = read_files('sample.txt')\n",
    "print(data)"
   ]
  },
  {
   "cell_type": "code",
   "execution_count": 14,
   "metadata": {},
   "outputs": [],
   "source": [
    "def write_file(path,content):\n",
    "    with  open(path,'w') as file:\n",
    "        file.write(content)\n",
    "\n",
    "def append_file(path,content):\n",
    "    with  open(path,'a') as file:\n",
    "        file.write(content)\n"
   ]
  },
  {
   "cell_type": "code",
   "execution_count": 15,
   "metadata": {},
   "outputs": [],
   "source": [
    "write_file(\"one.txt\",\"once upon a time\")"
   ]
  },
  {
   "cell_type": "code",
   "execution_count": 16,
   "metadata": {},
   "outputs": [],
   "source": [
    "append_file(\"one.txt\",\"\\nthere was a king\")"
   ]
  },
  {
   "cell_type": "code",
   "execution_count": 18,
   "metadata": {},
   "outputs": [
    {
     "data": {
      "text/plain": [
       "'once upon a time\\nthere was a king'"
      ]
     },
     "execution_count": 18,
     "metadata": {},
     "output_type": "execute_result"
    }
   ],
   "source": [
    "read_files(\"one.txt\")"
   ]
  },
  {
   "cell_type": "code",
   "execution_count": null,
   "metadata": {},
   "outputs": [],
   "source": []
  },
  {
   "cell_type": "code",
   "execution_count": null,
   "metadata": {},
   "outputs": [],
   "source": []
  }
 ],
 "metadata": {
  "kernelspec": {
   "display_name": "base",
   "language": "python",
   "name": "python3"
  },
  "language_info": {
   "codemirror_mode": {
    "name": "ipython",
    "version": 3
   },
   "file_extension": ".py",
   "mimetype": "text/x-python",
   "name": "python",
   "nbconvert_exporter": "python",
   "pygments_lexer": "ipython3",
   "version": "3.12.3"
  }
 },
 "nbformat": 4,
 "nbformat_minor": 2
}
