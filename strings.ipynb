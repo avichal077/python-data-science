{
 "cells": [
  {
   "cell_type": "markdown",
   "metadata": {},
   "source": [
    "# string\n",
    "- creating \n",
    "- indexing and slicing\n",
    "- menthods\n",
    "- tips and tricks "
   ]
  },
  {
   "cell_type": "code",
   "execution_count": 4,
   "metadata": {},
   "outputs": [],
   "source": [
    "a = \"apple\"\n",
    "b = 'apple'\n",
    "c = '''this is \n",
    "very usefull\n",
    "for mutli line messsage\n",
    "'''\n",
    "d = str(342347)\n"
   ]
  },
  {
   "cell_type": "code",
   "execution_count": 8,
   "metadata": {},
   "outputs": [
    {
     "name": "stdout",
     "output_type": "stream",
     "text": [
      "apple is a fruit\n",
      "c:\\users\\zaid\\desktop\n",
      "hello\n",
      "b'hello'\n"
     ]
    }
   ],
   "source": [
    "# type of strings \n",
    "# f-string\n",
    "x=  f'{a} is a fruit'\n",
    "print(x)\n",
    "# raw string\n",
    "add = r'c:\\users\\zaid\\desktop'\n",
    "print (add)\n",
    "# unicode string \n",
    "uni = u'hello'\n",
    "print(uni)\n",
    "# byte string (to store data)\n",
    "byt = b'hello'\n",
    "print(byt)\n"
   ]
  },
  {
   "cell_type": "code",
   "execution_count": 10,
   "metadata": {},
   "outputs": [
    {
     "name": "stdout",
     "output_type": "stream",
     "text": [
      "e\n",
      "n\n",
      "o\n",
      "a\n",
      "e\n"
     ]
    }
   ],
   "source": [
    "v = 'encyclopedia'\n",
    "print (v[0])# first index\n",
    "print (v[1])# second index\n",
    "print (v[6])# seventh index\n",
    "print(v[-1]) #last index\n",
    "print(v[-12]) #first index"
   ]
  },
  {
   "cell_type": "markdown",
   "metadata": {},
   "source": [
    "# the most important"
   ]
  },
  {
   "cell_type": "markdown",
   "metadata": {},
   "source": [
    "for more data we need to  take full data or less data for data selection that is known as \n",
    "##### slicing "
   ]
  },
  {
   "cell_type": "markdown",
   "metadata": {},
   "source": [
    "## slicing in python\n",
    "```\n",
    "\n",
    "x=[start : stop ]\n",
    "\n",
    "```"
   ]
  },
  {
   "cell_type": "code",
   "execution_count": 4,
   "metadata": {},
   "outputs": [
    {
     "name": "stdout",
     "output_type": "stream",
     "text": [
      "12\n",
      "cylcop\n"
     ]
    }
   ],
   "source": [
    "a = 'encylcopedia'\n",
    "print(len(a))\n",
    "print(a[2:8])"
   ]
  },
  {
   "cell_type": "code",
   "execution_count": 10,
   "metadata": {},
   "outputs": [
    {
     "name": "stdout",
     "output_type": "stream",
     "text": [
      "vijay\n",
      "deenanath\n",
      "chauchan\n"
     ]
    }
   ],
   "source": [
    "name = 'vijay deenanath chauchan '\n",
    "firstname = name[0:5]\n",
    "middlename = name[6:15]\n",
    "lastname = name[16:24]\n",
    "print (firstname)\n",
    "print (middlename)\n",
    "print (lastname)"
   ]
  },
  {
   "cell_type": "code",
   "execution_count": 11,
   "metadata": {},
   "outputs": [
    {
     "data": {
      "text/plain": [
       "'vijay'"
      ]
     },
     "execution_count": 11,
     "metadata": {},
     "output_type": "execute_result"
    }
   ],
   "source": [
    "name[:5]"
   ]
  },
  {
   "cell_type": "code",
   "execution_count": 14,
   "metadata": {},
   "outputs": [
    {
     "data": {
      "text/plain": [
       "'deenanath chauchan '"
      ]
     },
     "execution_count": 14,
     "metadata": {},
     "output_type": "execute_result"
    }
   ],
   "source": [
    "name[6:]"
   ]
  },
  {
   "cell_type": "code",
   "execution_count": 15,
   "metadata": {},
   "outputs": [
    {
     "data": {
      "text/plain": [
       "'destination'"
      ]
     },
     "execution_count": 15,
     "metadata": {},
     "output_type": "execute_result"
    }
   ],
   "source": [
    "msg = 'journey before destination'\n",
    "msg [-11:]"
   ]
  },
  {
   "cell_type": "code",
   "execution_count": 41,
   "metadata": {},
   "outputs": [
    {
     "data": {
      "text/plain": [
       "'once upon a time'"
      ]
     },
     "execution_count": 41,
     "metadata": {},
     "output_type": "execute_result"
    }
   ],
   "source": [
    "msg = 'once upon a time , there was a place called eternia'\n",
    "msg[:16]"
   ]
  },
  {
   "cell_type": "code",
   "execution_count": 26,
   "metadata": {},
   "outputs": [
    {
     "name": "stdout",
     "output_type": "stream",
     "text": [
      "$\n",
      "800999\n"
     ]
    },
    {
     "data": {
      "text/plain": [
       "int"
      ]
     },
     "execution_count": 26,
     "metadata": {},
     "output_type": "execute_result"
    }
   ],
   "source": [
    "amt = \"$800999\"\n",
    "print(amt[:1])\n",
    "a = int(amt[1:7])\n",
    "print(a)\n",
    "type (a)\n",
    "\n"
   ]
  },
  {
   "cell_type": "code",
   "execution_count": 27,
   "metadata": {},
   "outputs": [
    {
     "data": {
      "text/plain": [
       "'oc pnatm  hr a'"
      ]
     },
     "execution_count": 27,
     "metadata": {},
     "output_type": "execute_result"
    }
   ],
   "source": [
    "msg[::2]# every second character print kar raha or \n",
    "        # every even index"
   ]
  },
  {
   "cell_type": "code",
   "execution_count": 38,
   "metadata": {},
   "outputs": [
    {
     "data": {
      "text/plain": [
       "'neuo  ie hr a  lc aldeena'"
      ]
     },
     "execution_count": 38,
     "metadata": {},
     "output_type": "execute_result"
    }
   ],
   "source": [
    "msg[1::2]"
   ]
  },
  {
   "cell_type": "code",
   "execution_count": 39,
   "metadata": {},
   "outputs": [
    {
     "data": {
      "text/plain": [
       "' ainrete dellac ecalp a saw ereht ,emit a nopu ecno'"
      ]
     },
     "execution_count": 39,
     "metadata": {},
     "output_type": "execute_result"
    }
   ],
   "source": [
    "# most op thing  in slicing \n",
    "msg[::-1] # reverse the string"
   ]
  },
  {
   "cell_type": "code",
   "execution_count": 43,
   "metadata": {},
   "outputs": [
    {
     "data": {
      "text/plain": [
       "'ainre'"
      ]
     },
     "execution_count": 43,
     "metadata": {},
     "output_type": "execute_result"
    }
   ],
   "source": [
    "msg[::-1][:5]# reverse ka 0 to 5 index"
   ]
  },
  {
   "cell_type": "code",
   "execution_count": 46,
   "metadata": {},
   "outputs": [
    {
     "data": {
      "text/plain": [
       "'htananeed'"
      ]
     },
     "execution_count": 46,
     "metadata": {},
     "output_type": "execute_result"
    }
   ],
   "source": [
    "name [6:15][::-1]"
   ]
  },
  {
   "cell_type": "markdown",
   "metadata": {},
   "source": [
    "## string  methods \n",
    "- formating\n",
    "- validation\n",
    "- find & replace\n",
    "- etc."
   ]
  },
  {
   "cell_type": "code",
   "execution_count": 64,
   "metadata": {},
   "outputs": [
    {
     "name": "stdout",
     "output_type": "stream",
     "text": [
      "ALL THE GLITTER IS NOT GOLD💛\n",
      "all the glitter is not Gold💛\n",
      "all the glitter is not gold💛\n",
      "All the glitter is not gold💛\n",
      "All The Glitter Is Not Gold💛\n",
      "all the glitter is not gold💛\n",
      "ALL THE GLITTER IS NOT gOLD💛\n",
      "💛💛💛💛💛💛💛💛💛💛💛💛💛💛💛💛💛💛💛💛💛💛all the glitter is not Gold💛\n"
     ]
    }
   ],
   "source": [
    "quote = 'all the glitter is not Gold💛'\n",
    "quote_upper = quote.upper()\n",
    "print(quote_upper)\n",
    "print(quote)\n",
    "quote_lower = quote.lower()\n",
    "print(quote_lower)\n",
    "quote_capitalize = quote.capitalize()\n",
    "print(quote_capitalize)\n",
    "quote_title = quote.title()\n",
    "print(quote_title)\n",
    "quote_casefold = quote.casefold()\n",
    "print(quote_casefold)\n",
    "quote_swapcase = quote.swapcase()\n",
    "print(quote_swapcase)\n",
    "quote_rjust = quote.rjust(50,'💛')\n",
    "print(quote_rjust)"
   ]
  },
  {
   "cell_type": "code",
   "execution_count": 58,
   "metadata": {},
   "outputs": [
    {
     "name": "stdout",
     "output_type": "stream",
     "text": [
      "\u001b[1;31mSignature:\u001b[0m \u001b[0mquote\u001b[0m\u001b[1;33m.\u001b[0m\u001b[0mrjust\u001b[0m\u001b[1;33m(\u001b[0m\u001b[0mwidth\u001b[0m\u001b[1;33m,\u001b[0m \u001b[0mfillchar\u001b[0m\u001b[1;33m=\u001b[0m\u001b[1;34m' '\u001b[0m\u001b[1;33m,\u001b[0m \u001b[1;33m/\u001b[0m\u001b[1;33m)\u001b[0m\u001b[1;33m\u001b[0m\u001b[1;33m\u001b[0m\u001b[0m\n",
      "\u001b[1;31mDocstring:\u001b[0m\n",
      "Return a right-justified string of length width.\n",
      "\n",
      "Padding is done using the specified fill character (default is a space).\n",
      "\u001b[1;31mType:\u001b[0m      builtin_function_or_method"
     ]
    }
   ],
   "source": [
    "quote.rjust?"
   ]
  },
  {
   "cell_type": "code",
   "execution_count": 59,
   "metadata": {},
   "outputs": [
    {
     "name": "stdout",
     "output_type": "stream",
     "text": [
      "\u001b[1;31mSignature:\u001b[0m \u001b[0mquote\u001b[0m\u001b[1;33m.\u001b[0m\u001b[0mljust\u001b[0m\u001b[1;33m(\u001b[0m\u001b[0mwidth\u001b[0m\u001b[1;33m,\u001b[0m \u001b[0mfillchar\u001b[0m\u001b[1;33m=\u001b[0m\u001b[1;34m' '\u001b[0m\u001b[1;33m,\u001b[0m \u001b[1;33m/\u001b[0m\u001b[1;33m)\u001b[0m\u001b[1;33m\u001b[0m\u001b[1;33m\u001b[0m\u001b[0m\n",
      "\u001b[1;31mDocstring:\u001b[0m\n",
      "Return a left-justified string of length width.\n",
      "\n",
      "Padding is done using the specified fill character (default is a space).\n",
      "\u001b[1;31mType:\u001b[0m      builtin_function_or_method"
     ]
    }
   ],
   "source": [
    "quote.ljust?"
   ]
  },
  {
   "cell_type": "code",
   "execution_count": 66,
   "metadata": {},
   "outputs": [
    {
     "data": {
      "text/plain": [
       "'***********all the glitter is not Gold💛***********'"
      ]
     },
     "execution_count": 66,
     "metadata": {},
     "output_type": "execute_result"
    }
   ],
   "source": [
    "quote.center(50,'*')"
   ]
  },
  {
   "cell_type": "code",
   "execution_count": 67,
   "metadata": {},
   "outputs": [
    {
     "data": {
      "text/plain": [
       "False"
      ]
     },
     "execution_count": 67,
     "metadata": {},
     "output_type": "execute_result"
    }
   ],
   "source": [
    "name.isnumeric()"
   ]
  },
  {
   "cell_type": "code",
   "execution_count": 69,
   "metadata": {},
   "outputs": [
    {
     "name": "stdout",
     "output_type": "stream",
     "text": [
      "valid name , very good\n",
      "avichalsaxena\n"
     ]
    }
   ],
   "source": [
    "fname = input('enter the name :(dont use the numbers)')\n",
    "if fname.isalpha():\n",
    "    print('valid name , very good')\n",
    "    print(fname)\n",
    "else:\n",
    "    print('what kind of name is this?')\n",
    "    print(fname)\n"
   ]
  },
  {
   "cell_type": "code",
   "execution_count": 73,
   "metadata": {},
   "outputs": [
    {
     "data": {
      "text/plain": [
       "31"
      ]
     },
     "execution_count": 73,
     "metadata": {},
     "output_type": "execute_result"
    }
   ],
   "source": [
    "# find and index methods for searching in the strings \n",
    "msg.find('place') # returns the index of the first occurence of the substring\n"
   ]
  },
  {
   "cell_type": "code",
   "execution_count": 80,
   "metadata": {},
   "outputs": [
    {
     "name": "stdout",
     "output_type": "stream",
     "text": [
      "12\n",
      "40\n",
      "76\n",
      "-1\n",
      "12\n",
      "76\n"
     ]
    }
   ],
   "source": [
    "data = '''roshar is a place of magic and wonder, \n",
    "place of knights and kings .\n",
    "its a place of highstorms and shardblades'''\n",
    "print(data.find('place'))\n",
    "print(data.find('place',13))\n",
    "print(data.find('place',41))\n",
    "print(data.find('Place'))\n",
    "print(data.lower().find('place'))\n",
    "#reverse find\n",
    "print(data.rfind('place'))\n",
    "\n"
   ]
  },
  {
   "cell_type": "code",
   "execution_count": 83,
   "metadata": {},
   "outputs": [
    {
     "data": {
      "text/plain": [
       "'roshar is a world of magic and wonder, \\nworld of knights and kings .\\n its a world of highstorms and shardblades'"
      ]
     },
     "execution_count": 83,
     "metadata": {},
     "output_type": "execute_result"
    }
   ],
   "source": [
    "#replace method\n",
    "data.replace('place','world')\n",
    "\n",
    "\n"
   ]
  },
  {
   "cell_type": "code",
   "execution_count": 85,
   "metadata": {},
   "outputs": [
    {
     "data": {
      "text/plain": [
       "'r❤️shar is a place ❤️f magic and w❤️nder, \\nplace ❤️f knights and kings .\\n its a place ❤️f highst❤️rms and shardblades'"
      ]
     },
     "execution_count": 85,
     "metadata": {},
     "output_type": "execute_result"
    }
   ],
   "source": [
    "data.replace('o','❤️')"
   ]
  },
  {
   "cell_type": "code",
   "execution_count": 86,
   "metadata": {},
   "outputs": [
    {
     "data": {
      "text/plain": [
       "'roshbr es b plbce of mbgec bnd wonder, \\nplbce of cneghts bnd cengs .\\n ets b plbce of heghstorms bnd shbrdblbdes'"
      ]
     },
     "execution_count": 86,
     "metadata": {},
     "output_type": "execute_result"
    }
   ],
   "source": [
    "data.replace('i','e').replace('k','c').replace('a','b')"
   ]
  },
  {
   "cell_type": "code",
   "execution_count": 87,
   "metadata": {},
   "outputs": [
    {
     "data": {
      "text/plain": [
       "'roshar_is_a_place_of_magic_and_wonder,_\\nplace_of_knights_and_kings_.\\n_its_a_place_of_highstorms_and_shardblades'"
      ]
     },
     "execution_count": 87,
     "metadata": {},
     "output_type": "execute_result"
    }
   ],
   "source": [
    "data.replace(' ','_')"
   ]
  },
  {
   "cell_type": "code",
   "execution_count": 89,
   "metadata": {},
   "outputs": [
    {
     "name": "stdout",
     "output_type": "stream",
     "text": [
      "roshar_is_a_place of magic and wonder, \n",
      "place of knights and kings .\n",
      " its a place of highstorms and shardblades\n"
     ]
    }
   ],
   "source": [
    "print(data.replace(' ','_',3))"
   ]
  },
  {
   "cell_type": "markdown",
   "metadata": {},
   "source": [
    "##  split and join"
   ]
  },
  {
   "cell_type": "markdown",
   "metadata": {},
   "source": []
  },
  {
   "cell_type": "code",
   "execution_count": 1,
   "metadata": {},
   "outputs": [
    {
     "name": "stdout",
     "output_type": "stream",
     "text": [
      "24\n",
      "apple banana watermelon \n",
      "['apple', 'banana', 'watermelon']\n"
     ]
    }
   ],
   "source": [
    "fruits = input(\"enter the  fruits\")\n",
    "print (len(fruits))\n",
    "print(fruits)\n",
    "fruitlist = fruits.split()\n",
    "print(fruitlist)"
   ]
  },
  {
   "cell_type": "code",
   "execution_count": 6,
   "metadata": {},
   "outputs": [
    {
     "data": {
      "text/plain": [
       "['avichal', 'saxena']"
      ]
     },
     "execution_count": 6,
     "metadata": {},
     "output_type": "execute_result"
    }
   ],
   "source": [
    "'avichal saxena'.split()"
   ]
  },
  {
   "cell_type": "code",
   "execution_count": 58,
   "metadata": {},
   "outputs": [
    {
     "data": {
      "text/plain": [
       "['life before death',\n",
       " ' strenght before weakness',\n",
       " ' journey before destination']"
      ]
     },
     "execution_count": 58,
     "metadata": {},
     "output_type": "execute_result"
    }
   ],
   "source": [
    "quote = 'life before death, strenght before weakness, journey before destination'\n",
    "quote.split(',')"
   ]
  },
  {
   "cell_type": "code",
   "execution_count": 9,
   "metadata": {},
   "outputs": [
    {
     "data": {
      "text/plain": [
       "['life ', ' death, strenght ', ' weakness, journey ', ' destination']"
      ]
     },
     "execution_count": 9,
     "metadata": {},
     "output_type": "execute_result"
    }
   ],
   "source": [
    "quote.split('before')"
   ]
  },
  {
   "cell_type": "code",
   "execution_count": 11,
   "metadata": {},
   "outputs": [
    {
     "data": {
      "text/plain": [
       "['johnny johnny , yes papa',\n",
       " 'eating sugar ? no papa ',\n",
       " 'telling lies? no papa ',\n",
       " 'open your mouth , hahaha']"
      ]
     },
     "execution_count": 11,
     "metadata": {},
     "output_type": "execute_result"
    }
   ],
   "source": [
    "poem = '''johnny johnny , yes papa\n",
    "eating sugar ? no papa \n",
    "telling lies? no papa \n",
    "open your mouth , hahaha'''\n",
    "poem.splitlines()"
   ]
  },
  {
   "cell_type": "markdown",
   "metadata": {},
   "source": [
    "### join function is use to join the or convert the list into string "
   ]
  },
  {
   "cell_type": "code",
   "execution_count": 12,
   "metadata": {},
   "outputs": [
    {
     "data": {
      "text/plain": [
       "'c:/users/avichal/desktop/file.txt'"
      ]
     },
     "execution_count": 12,
     "metadata": {},
     "output_type": "execute_result"
    }
   ],
   "source": [
    "addr = ['c:','users','avichal','desktop','file.txt']\n",
    "'/'.join(addr)"
   ]
  },
  {
   "cell_type": "code",
   "execution_count": 15,
   "metadata": {},
   "outputs": [
    {
     "name": "stdout",
     "output_type": "stream",
     "text": [
      "['avichal', ' june', '2003']\n",
      "img_avichal_ june_2003.jpg\n"
     ]
    }
   ],
   "source": [
    "data = input (\"enter the name , month and year of birth seperated by comma:\")\n",
    "words = data.split(',')\n",
    "print(words)\n",
    "name = '_'.join(words)\n",
    "print (f'img_{name}.jpg')"
   ]
  },
  {
   "cell_type": "code",
   "execution_count": 16,
   "metadata": {},
   "outputs": [
    {
     "name": "stdout",
     "output_type": "stream",
     "text": [
      "avichal \n"
     ]
    }
   ],
   "source": [
    "str = input(\"enter the name\")\n",
    "print (str)"
   ]
  },
  {
   "cell_type": "code",
   "execution_count": 17,
   "metadata": {},
   "outputs": [
    {
     "name": "stdout",
     "output_type": "stream",
     "text": [
      "7\n"
     ]
    }
   ],
   "source": [
    "string = input('enter the name ')\n",
    "print(len(string))"
   ]
  },
  {
   "cell_type": "code",
   "execution_count": 23,
   "metadata": {},
   "outputs": [
    {
     "data": {
      "text/plain": [
       "'great'"
      ]
     },
     "execution_count": 23,
     "metadata": {},
     "output_type": "execute_result"
    }
   ],
   "source": [
    "slicing = \"python is great\"\n",
    "slicing[10:15]"
   ]
  },
  {
   "cell_type": "code",
   "execution_count": 26,
   "metadata": {},
   "outputs": [
    {
     "name": "stdout",
     "output_type": "stream",
     "text": [
      "python\n",
      "is\n",
      "everthing\n"
     ]
    }
   ],
   "source": [
    "string = \"python is everthing\"\n",
    "first = string[:6]\n",
    "middle= string[7:9]\n",
    "last= string[10:19]\n",
    "print(first)\n",
    "print(middle)\n",
    "print(last)"
   ]
  },
  {
   "cell_type": "code",
   "execution_count": 28,
   "metadata": {},
   "outputs": [
    {
     "data": {
      "text/plain": [
       "'dlrow olleh'"
      ]
     },
     "execution_count": 28,
     "metadata": {},
     "output_type": "execute_result"
    }
   ],
   "source": [
    "string = \"hello world\"\n",
    "string[::-1]"
   ]
  },
  {
   "cell_type": "code",
   "execution_count": 29,
   "metadata": {},
   "outputs": [
    {
     "data": {
      "text/plain": [
       "'HOW ARE YOU?'"
      ]
     },
     "execution_count": 29,
     "metadata": {},
     "output_type": "execute_result"
    }
   ],
   "source": [
    "string = \"how are you?\"\n",
    "string.upper()"
   ]
  },
  {
   "cell_type": "code",
   "execution_count": 30,
   "metadata": {},
   "outputs": [
    {
     "data": {
      "text/plain": [
       "'how  is it going?'"
      ]
     },
     "execution_count": 30,
     "metadata": {},
     "output_type": "execute_result"
    }
   ],
   "source": [
    "string = \"How  Is It Going?\"\n",
    "string.lower()"
   ]
  },
  {
   "cell_type": "code",
   "execution_count": 33,
   "metadata": {},
   "outputs": [
    {
     "data": {
      "text/plain": [
       "'python is easy to learn'"
      ]
     },
     "execution_count": 33,
     "metadata": {},
     "output_type": "execute_result"
    }
   ],
   "source": [
    "word = ['python', 'is','easy','to','learn']\n",
    "\" \".join(word)"
   ]
  },
  {
   "cell_type": "code",
   "execution_count": 46,
   "metadata": {},
   "outputs": [
    {
     "data": {
      "text/plain": [
       "\"to move to newline '\\n' is used\""
      ]
     },
     "execution_count": 46,
     "metadata": {},
     "output_type": "execute_result"
    }
   ],
   "source": [
    "\"to move to newline '\\n' is used\""
   ]
  },
  {
   "cell_type": "code",
   "execution_count": 38,
   "metadata": {},
   "outputs": [
    {
     "name": "stdout",
     "output_type": "stream",
     "text": [
      "roshar is a place of magic and wonder, \n",
      "place of knights and kings .\n",
      "its a place of highstorms and shardblades\n"
     ]
    }
   ],
   "source": [
    "data = '''roshar is a place of magic and wonder, \n",
    "place of knights and kings .\n",
    "its a place of highstorms and shardblades'''\n",
    "print(data)"
   ]
  },
  {
   "cell_type": "markdown",
   "metadata": {},
   "source": [
    "### count method - tell u the number of time it appeard\n"
   ]
  },
  {
   "cell_type": "code",
   "execution_count": 48,
   "metadata": {},
   "outputs": [
    {
     "name": "stdout",
     "output_type": "stream",
     "text": [
      "3\n"
     ]
    }
   ],
   "source": [
    "n = quote.count('before')\n",
    "print (n)\n"
   ]
  },
  {
   "cell_type": "code",
   "execution_count": 49,
   "metadata": {},
   "outputs": [
    {
     "name": "stdout",
     "output_type": "stream",
     "text": [
      "before occurs 3 times in the quotes\n"
     ]
    }
   ],
   "source": [
    "n = quote.count('before')\n",
    "print (f'before occurs {n} times in the quotes')\n"
   ]
  },
  {
   "cell_type": "markdown",
   "metadata": {},
   "source": [
    "### starts with or ends with"
   ]
  },
  {
   "cell_type": "code",
   "execution_count": 50,
   "metadata": {},
   "outputs": [
    {
     "data": {
      "text/plain": [
       "True"
      ]
     },
     "execution_count": 50,
     "metadata": {},
     "output_type": "execute_result"
    }
   ],
   "source": [
    "\"mr bean\". startswith('mr')"
   ]
  },
  {
   "cell_type": "code",
   "execution_count": 51,
   "metadata": {},
   "outputs": [
    {
     "data": {
      "text/plain": [
       "False"
      ]
     },
     "execution_count": 51,
     "metadata": {},
     "output_type": "execute_result"
    }
   ],
   "source": [
    "\"mr bean\". startswith('bean')"
   ]
  },
  {
   "cell_type": "code",
   "execution_count": 55,
   "metadata": {},
   "outputs": [
    {
     "name": "stdout",
     "output_type": "stream",
     "text": [
      "fuck off krish\n"
     ]
    }
   ],
   "source": [
    "name = input('enter the name ')\n",
    "if name.startswith('MR'):\n",
    "    print('hello sir')\n",
    "else :\n",
    "    print(f'fuck off {name}')\n"
   ]
  },
  {
   "cell_type": "code",
   "execution_count": 56,
   "metadata": {},
   "outputs": [
    {
     "name": "stdout",
     "output_type": "stream",
     "text": [
      "filename:avichal.txt\n",
      "text file\n"
     ]
    }
   ],
   "source": [
    "filename = input('enter the name')\n",
    "print(f'filename:{filename}')\n",
    "if filename.endswith('.csv'):\n",
    "    print('dataset file')\n",
    "elif filename.endswith('.txt'):\n",
    "    print('text file')\n",
    "elif filename.endswith('.jpg'):\n",
    "    print('image file')\n",
    "else:\n",
    "    print(\"no extension provied\")"
   ]
  },
  {
   "cell_type": "code",
   "execution_count": 62,
   "metadata": {},
   "outputs": [
    {
     "name": "stdout",
     "output_type": "stream",
     "text": [
      "   batman  \n",
      "batman\n",
      "movie:11\n",
      "chars in movie name:11\n"
     ]
    }
   ],
   "source": [
    "# strip remove the extra space \n",
    "movie = input('enter movie name:')\n",
    "clean_movie= movie.strip()\n",
    "print(movie)\n",
    "print(clean_movie)\n",
    "print(f'movie:{len(movie)}')\n",
    "print(f'chars in movie name:{len(movie)}')"
   ]
  },
  {
   "cell_type": "code",
   "execution_count": 68,
   "metadata": {},
   "outputs": [
    {
     "data": {
      "text/plain": [
       "'hello'"
      ]
     },
     "execution_count": 68,
     "metadata": {},
     "output_type": "execute_result"
    }
   ],
   "source": [
    "'  hello  '.strip()"
   ]
  },
  {
   "cell_type": "code",
   "execution_count": 71,
   "metadata": {},
   "outputs": [
    {
     "name": "stdout",
     "output_type": "stream",
     "text": [
      "hello\n"
     ]
    }
   ],
   "source": [
    "print(',,,hello****'.strip(',*'))"
   ]
  },
  {
   "cell_type": "code",
   "execution_count": 1,
   "metadata": {},
   "outputs": [
    {
     "name": "stdout",
     "output_type": "stream",
     "text": [
      "the variable is 15\n"
     ]
    }
   ],
   "source": [
    "x = 15\n",
    "print(f'the variable is {x}')"
   ]
  },
  {
   "cell_type": "code",
   "execution_count": 3,
   "metadata": {},
   "outputs": [
    {
     "name": "stdout",
     "output_type": "stream",
     "text": [
      "python is great \n"
     ]
    }
   ],
   "source": [
    "s1 = 'python '\n",
    "s2 = 'is '\n",
    "s3 = 'great '\n",
    "r = s1 + s2 + s3\n",
    "print(r)\n"
   ]
  },
  {
   "cell_type": "code",
   "execution_count": 4,
   "metadata": {},
   "outputs": [
    {
     "name": "stdout",
     "output_type": "stream",
     "text": [
      "####################\n"
     ]
    }
   ],
   "source": [
    "print('#'* 20)"
   ]
  },
  {
   "cell_type": "code",
   "execution_count": 10,
   "metadata": {},
   "outputs": [
    {
     "name": "stdout",
     "output_type": "stream",
     "text": [
      "1.\n",
      "2.\n",
      "3.\n",
      "4.\n",
      "5.\n",
      "6.\n",
      "7.\n",
      "8.\n",
      "9.\n"
     ]
    }
   ],
   "source": [
    "for i in range (1,10):\n",
    "    print(f'{i}.')"
   ]
  },
  {
   "cell_type": "code",
   "execution_count": 12,
   "metadata": {},
   "outputs": [
    {
     "name": "stdout",
     "output_type": "stream",
     "text": [
      "['avichal', 'is', 'my', 'name']\n",
      "avichal\n",
      "is\n",
      "my\n",
      "name\n"
     ]
    }
   ],
   "source": [
    "word = input('enter the statement')\n",
    "s = word.split()\n",
    "print(s)\n",
    "for s in  s:\n",
    "    print(s)"
   ]
  },
  {
   "cell_type": "code",
   "execution_count": 19,
   "metadata": {},
   "outputs": [
    {
     "data": {
      "text/plain": [
       "True"
      ]
     },
     "execution_count": 19,
     "metadata": {},
     "output_type": "execute_result"
    }
   ],
   "source": [
    "string = \"people call me by the nick name avi\"\n",
    "string.endswith('avi')"
   ]
  },
  {
   "cell_type": "code",
   "execution_count": 21,
   "metadata": {},
   "outputs": [
    {
     "data": {
      "text/plain": [
       "2"
      ]
     },
     "execution_count": 21,
     "metadata": {},
     "output_type": "execute_result"
    }
   ],
   "source": [
    "a = input('enter the statement')\n",
    "a.count('e')"
   ]
  },
  {
   "cell_type": "code",
   "execution_count": 23,
   "metadata": {},
   "outputs": [
    {
     "name": "stdout",
     "output_type": "stream",
     "text": [
      "The input is a number.\n"
     ]
    }
   ],
   "source": [
    "user_input = input(\"Enter something: \")\n",
    "if user_input.isdigit():\n",
    "    print(\"The input is a number.\")\n",
    "else:\n",
    "    print(\"The input is not a number.\")\n",
    "    "
   ]
  },
  {
   "cell_type": "code",
   "execution_count": 24,
   "metadata": {},
   "outputs": [
    {
     "data": {
      "text/plain": [
       "'this is not a good string'"
      ]
     },
     "execution_count": 24,
     "metadata": {},
     "output_type": "execute_result"
    }
   ],
   "source": [
    "text = '   this is not a good string   '\n",
    "text.strip()\n"
   ]
  },
  {
   "cell_type": "code",
   "execution_count": 27,
   "metadata": {},
   "outputs": [
    {
     "name": "stdout",
     "output_type": "stream",
     "text": [
      "Found\n"
     ]
    }
   ],
   "source": [
    "user_input = input(\"Enter a string: \")\n",
    "if user_input.isupper():\n",
    "    print(\"Found\")\n",
    "else:\n",
    "    print(\"Not found\")"
   ]
  },
  {
   "cell_type": "code",
   "execution_count": 28,
   "metadata": {},
   "outputs": [
    {
     "name": "stdout",
     "output_type": "stream",
     "text": [
      "['Joe', 'David', 'Mark', 'Tom', 'Chris', 'Robert']\n"
     ]
    }
   ],
   "source": [
    "names = 'Joe, David, Mark, Tom, Chris, Robert'\n",
    "names_list = names.split(', ')\n",
    "print(names_list)"
   ]
  },
  {
   "cell_type": "code",
   "execution_count": 31,
   "metadata": {},
   "outputs": [
    {
     "name": "stdout",
     "output_type": "stream",
     "text": [
      "The string contains 'fyi'.\n"
     ]
    }
   ],
   "source": [
    "user_input = input(\"Enter a string: \")\n",
    "\n",
    "if 'fyi' in user_input:\n",
    "    print(\"The string contains 'fyi'.\")\n",
    "else:\n",
    "    print(\"The string does not contain 'fyi'.\")"
   ]
  },
  {
   "cell_type": "code",
   "execution_count": null,
   "metadata": {},
   "outputs": [],
   "source": []
  }
 ],
 "metadata": {
  "kernelspec": {
   "display_name": "base",
   "language": "python",
   "name": "python3"
  },
  "language_info": {
   "codemirror_mode": {
    "name": "ipython",
    "version": 3
   },
   "file_extension": ".py",
   "mimetype": "text/x-python",
   "name": "python",
   "nbconvert_exporter": "python",
   "pygments_lexer": "ipython3",
   "version": "3.12.3"
  }
 },
 "nbformat": 4,
 "nbformat_minor": 2
}
