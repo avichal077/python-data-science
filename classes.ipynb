{
 "cells": [
  {
   "cell_type": "code",
   "execution_count": 6,
   "metadata": {},
   "outputs": [
    {
     "name": "stdout",
     "output_type": "stream",
     "text": [
      "hello <class 'str'>\n"
     ]
    }
   ],
   "source": [
    "a = 'hello'\n",
    "print(a,type(a))"
   ]
  },
  {
   "cell_type": "code",
   "execution_count": 1,
   "metadata": {},
   "outputs": [],
   "source": [
    "class Pen:\n",
    "    shape = None\n",
    "    color = None\n",
    "    material = None\n",
    "    type = None\n",
    "     \n",
    "    def show(self):\n",
    "        print(\"this is a pen\")\n"
   ]
  },
  {
   "cell_type": "code",
   "execution_count": 2,
   "metadata": {},
   "outputs": [
    {
     "name": "stdout",
     "output_type": "stream",
     "text": [
      "<__main__.Pen object at 0x0000022C3BA40D10>\n",
      "<__main__.Pen object at 0x0000022C3BA8C860>\n",
      "this is a pen\n",
      "this is a pen\n",
      "cylinder  blue plastic ballpoint\n"
     ]
    }
   ],
   "source": [
    "p1 = Pen() #create  an object of pen class\n",
    "p2= Pen()\n",
    "print(p1)\n",
    "print(p2)\n",
    "p1.show()# calling a method of pen class \n",
    "p2.show()\n",
    "p1.shape = 'cylinder'# setting the value of shape attribute \n",
    "p2.shape = 'hexagon'\n",
    "p1.color= ' blue'\n",
    "p2.color = 'red'\n",
    "p1.material = 'plastic'\n",
    "p2.material = 'metal '\n",
    "p1.type = 'ballpoint'\n",
    "p2.type = 'gelpen'\n",
    "print(p1.shape,p1.color,p1.material,p1.type)\n"
   ]
  },
  {
   "cell_type": "code",
   "execution_count": 3,
   "metadata": {},
   "outputs": [],
   "source": [
    "class Student:\n",
    "    def __init__(self, nm, course, college, gender='F' ) -> None:\n",
    "        #instance variables \n",
    "        self.name = nm\n",
    "        self.course = course \n",
    "        self.college = college\n",
    "        self.gender = gender\n",
    "        self.skills = []\n",
    "\n",
    "    def show(self):\n",
    "        print('student name:',self.name)\n",
    "        print('course:',self.course)\n",
    "        print('college:',self.college)\n",
    "        print('gender:',self.gender)\n",
    "        print('skills:',*self.skills)\n",
    "    \n",
    "    def add_skill(self,new_skill):\n",
    "        self.skills.append(new_skill)"
   ]
  },
  {
   "cell_type": "code",
   "execution_count": 25,
   "metadata": {},
   "outputs": [
    {
     "name": "stdout",
     "output_type": "stream",
     "text": [
      "student name: krish\n",
      "course: btech\n",
      "college: amity\n",
      "gender: m\n",
      "skills: coding strategy\n",
      "student name: shaurya\n",
      "course: btech\n",
      "college: mit\n",
      "gender: m\n",
      "skills: lawn tennis table tenis\n",
      "student name: srishti\n",
      "course: btech\n",
      "college: srmu\n",
      "gender: f\n",
      "skills: singing dance\n"
     ]
    }
   ],
   "source": [
    "s1 = Student('krish','btech','amity','m')\n",
    "s2 = Student('shaurya','btech','mit','m')\n",
    "s3 = Student('srishti','btech','srmu','f')\n",
    "s1.add_skill(\"coding\")\n",
    "s1.add_skill(\"strategy\")\n",
    "s2.add_skill(\"lawn tennis\")\n",
    "s2.add_skill(\"table tenis\")\n",
    "s3.add_skill(\"singing\")\n",
    "s3.add_skill(\"dance\")\n",
    "s1.show()\n",
    "s2.show()\n",
    "s3.show()"
   ]
  },
  {
   "cell_type": "markdown",
   "metadata": {},
   "source": [
    "### data class\n",
    "- `data class` is a class that only contains data , no functions "
   ]
  },
  {
   "cell_type": "code",
   "execution_count": 26,
   "metadata": {},
   "outputs": [],
   "source": [
    "from dataclasses import dataclass"
   ]
  },
  {
   "cell_type": "code",
   "execution_count": 27,
   "metadata": {},
   "outputs": [],
   "source": [
    "@dataclass\n",
    "class Employee:\n",
    "    name: str\n",
    "    designation : str\n",
    "    salary: float"
   ]
  },
  {
   "cell_type": "code",
   "execution_count": 28,
   "metadata": {},
   "outputs": [
    {
     "name": "stdout",
     "output_type": "stream",
     "text": [
      "Employee(name='sam', designation='manager', salary=50000)\n",
      "Employee(name='kim', designation='manager', salary=30000)\n",
      "sam\n"
     ]
    }
   ],
   "source": [
    "e1 = Employee('sam','manager',50000)\n",
    "e2 = Employee('kim','manager',30000)\n",
    "print(e1)\n",
    "print(e2)\n",
    "print(e1.name)\n"
   ]
  },
  {
   "cell_type": "code",
   "execution_count": 29,
   "metadata": {},
   "outputs": [],
   "source": [
    "class backbencher(Student):\n",
    "    pass"
   ]
  },
  {
   "cell_type": "code",
   "execution_count": 31,
   "metadata": {},
   "outputs": [
    {
     "name": "stdout",
     "output_type": "stream",
     "text": [
      "student name: rahul\n",
      "course: btech\n",
      "college: amity\n",
      "gender: m\n",
      "skills: sleeping\n"
     ]
    }
   ],
   "source": [
    "b1 = backbencher('rahul','btech','amity','m')\n",
    "b1.add_skill('sleeping')\n",
    "b1.show()"
   ]
  },
  {
   "cell_type": "markdown",
   "metadata": {},
   "source": [
    "inheritance \n",
    "- `there are no access modifier in python, everything is public`\n",
    "- method overriding"
   ]
  },
  {
   "cell_type": "code",
   "execution_count": 16,
   "metadata": {},
   "outputs": [],
   "source": [
    "class shape :\n",
    "    def __init__(self, color, filled) -> None:\n",
    "        self.color = color\n",
    "        self.filled = filled\n",
    "    def show(self):\n",
    "        print('color:',self.color)\n",
    "        print('filled:',self.filled)"
   ]
  },
  {
   "cell_type": "code",
   "execution_count": 17,
   "metadata": {},
   "outputs": [],
   "source": [
    "# child class\n",
    "class Circle  (shape):\n",
    "    # constructor overriding\n",
    "    def __init__(self,color,filled,radius) -> None:\n",
    "        super().__init__(color,filled)\n",
    "        self.radius = radius \n",
    "class rectangle (shape):\n",
    "    # constructor overriding\n",
    "    def __init__(self,l,w,color,filled) -> None:\n",
    "        super().__init__(color,filled)\n",
    "        self.length = l\n",
    "        self.width= w\n",
    "    #method overriding \n",
    "    def show(self):\n",
    "        super().show()\n",
    "        print('length:',self.length)\n",
    "        print('width:',self.width)\n",
    "    def area(self):\n",
    "        return self.length* self.width\n",
    "class triangle (shape):\n",
    "    # constructor overriding\n",
    "    def __init__(self,base,heigth) -> None:\n",
    "        # parent class constructor fixed values\n",
    "        super().__init__(color='red',filled=True)\n",
    "        self.base = base\n",
    "        self.heigth = heigth\n",
    "\n",
    "    "
   ]
  },
  {
   "cell_type": "code",
   "execution_count": 18,
   "metadata": {},
   "outputs": [
    {
     "name": "stdout",
     "output_type": "stream",
     "text": [
      "color: 5\n",
      "filled: red\n",
      "color: green\n",
      "filled: False\n",
      "length: 10\n",
      "width: 5\n",
      "rectangle area : 50\n",
      "color: red\n",
      "filled: True\n"
     ]
    }
   ],
   "source": [
    "circle = Circle(5,'red',True)\n",
    "circle.show()\n",
    "rect = rectangle(10,5,'green',False)\n",
    "rect.show()\n",
    "print(\"rectangle area :\",rect.area())\n",
    "tri = triangle(10,5)\n",
    "tri.show()"
   ]
  },
  {
   "cell_type": "code",
   "execution_count": null,
   "metadata": {},
   "outputs": [],
   "source": []
  }
 ],
 "metadata": {
  "kernelspec": {
   "display_name": "base",
   "language": "python",
   "name": "python3"
  },
  "language_info": {
   "codemirror_mode": {
    "name": "ipython",
    "version": 3
   },
   "file_extension": ".py",
   "mimetype": "text/x-python",
   "name": "python",
   "nbconvert_exporter": "python",
   "pygments_lexer": "ipython3",
   "version": "3.12.3"
  }
 },
 "nbformat": 4,
 "nbformat_minor": 2
}
