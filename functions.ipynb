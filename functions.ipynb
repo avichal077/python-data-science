{
 "cells": [
  {
   "cell_type": "markdown",
   "metadata": {},
   "source": [
    "## functions  are of two types\n",
    "- pre-defined\n",
    "  - `print`,`input`,`sum`,`len`,`type`,`isinstance`\n",
    "- user-defined\n",
    "  -`defined by users(coder)`\n",
    "    - need of the function \n",
    "      - `code reuse`\n",
    "      - `easy debugging` \n",
    "      - `manageable`\n",
    "        \n",
    "    "
   ]
  },
  {
   "cell_type": "code",
   "execution_count": 9,
   "metadata": {},
   "outputs": [
    {
     "name": "stdout",
     "output_type": "stream",
     "text": [
      "☀️☀️☀️☀️☀️☀️☀️\n",
      "  good morning!   \n",
      "☀️☀️☀️☀️☀️☀️☀️\n"
     ]
    }
   ],
   "source": [
    "# define the function\n",
    "def greetings():\n",
    "    print('☀️☀️☀️☀️☀️☀️☀️')\n",
    "    print('  good morning!   ')\n",
    "    print('☀️☀️☀️☀️☀️☀️☀️')\n",
    "greetings()"
   ]
  },
  {
   "cell_type": "code",
   "execution_count": 7,
   "metadata": {},
   "outputs": [
    {
     "data": {
      "text/plain": [
       "<function __main__.greetings()>"
      ]
     },
     "execution_count": 7,
     "metadata": {},
     "output_type": "execute_result"
    }
   ],
   "source": [
    "# calling a function (using)\n",
    "greetings"
   ]
  },
  {
   "cell_type": "code",
   "execution_count": 8,
   "metadata": {},
   "outputs": [
    {
     "name": "stdout",
     "output_type": "stream",
     "text": [
      "☀️☀️☀️☀️☀️☀️☀️\n",
      "  good morning!   \n",
      "☀️☀️☀️☀️☀️☀️☀️\n"
     ]
    }
   ],
   "source": [
    "greetings()"
   ]
  },
  {
   "cell_type": "code",
   "execution_count": 3,
   "metadata": {},
   "outputs": [
    {
     "name": "stdout",
     "output_type": "stream",
     "text": [
      "🎲3\n"
     ]
    }
   ],
   "source": [
    "def roll ():\n",
    "    from random import randint\n",
    "    dice = randint(1,6)\n",
    "    print (f'🎲{dice}')\n",
    "roll()"
   ]
  },
  {
   "cell_type": "code",
   "execution_count": 1,
   "metadata": {},
   "outputs": [
    {
     "name": "stdout",
     "output_type": "stream",
     "text": [
      "1\n",
      "2\n",
      "3\n",
      "4\n",
      "5\n",
      "6\n",
      "7\n",
      "8\n",
      "9\n",
      "10\n"
     ]
    }
   ],
   "source": [
    "for i in range (1,11):\n",
    "    print(i)"
   ]
  },
  {
   "cell_type": "code",
   "execution_count": null,
   "metadata": {},
   "outputs": [],
   "source": []
  }
 ],
 "metadata": {
  "kernelspec": {
   "display_name": "base",
   "language": "python",
   "name": "python3"
  },
  "language_info": {
   "codemirror_mode": {
    "name": "ipython",
    "version": 3
   },
   "file_extension": ".py",
   "mimetype": "text/x-python",
   "name": "python",
   "nbconvert_exporter": "python",
   "pygments_lexer": "ipython3",
   "version": "3.12.3"
  }
 },
 "nbformat": 4,
 "nbformat_minor": 2
}
