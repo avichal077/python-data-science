{
 "cells": [
  {
   "cell_type": "markdown",
   "metadata": {},
   "source": [
    "## functions  are of two types\n",
    "- pre-defined\n",
    "  - `print`,`input`,`sum`,`len`,`type`,`isinstance`\n",
    "- user-defined\n",
    "  -`defined by users(coder)`\n",
    "    - need of the function \n",
    "      - `code reuse`\n",
    "      - `easy debugging` \n",
    "      - `manageable`\n",
    "        \n",
    "    "
   ]
  },
  {
   "cell_type": "code",
   "execution_count": 9,
   "metadata": {},
   "outputs": [
    {
     "name": "stdout",
     "output_type": "stream",
     "text": [
      "☀️☀️☀️☀️☀️☀️☀️\n",
      "  good morning!   \n",
      "☀️☀️☀️☀️☀️☀️☀️\n"
     ]
    }
   ],
   "source": [
    "# define the function\n",
    "def greetings():\n",
    "    print('☀️☀️☀️☀️☀️☀️☀️')\n",
    "    print('  good morning!   ')\n",
    "    print('☀️☀️☀️☀️☀️☀️☀️')\n",
    "greetings()"
   ]
  },
  {
   "cell_type": "code",
   "execution_count": 7,
   "metadata": {},
   "outputs": [
    {
     "data": {
      "text/plain": [
       "<function __main__.greetings()>"
      ]
     },
     "execution_count": 7,
     "metadata": {},
     "output_type": "execute_result"
    }
   ],
   "source": [
    "# calling a function (using)\n",
    "greetings"
   ]
  },
  {
   "cell_type": "code",
   "execution_count": 8,
   "metadata": {},
   "outputs": [
    {
     "name": "stdout",
     "output_type": "stream",
     "text": [
      "☀️☀️☀️☀️☀️☀️☀️\n",
      "  good morning!   \n",
      "☀️☀️☀️☀️☀️☀️☀️\n"
     ]
    }
   ],
   "source": [
    "greetings()"
   ]
  },
  {
   "cell_type": "code",
   "execution_count": 9,
   "metadata": {},
   "outputs": [
    {
     "name": "stdout",
     "output_type": "stream",
     "text": [
      "🎲6\n"
     ]
    }
   ],
   "source": [
    "def roll ():\n",
    "    from random import randint\n",
    "    dice = randint(1,6)\n",
    "    print (f'🎲{dice}')\n",
    "roll()"
   ]
  },
  {
   "cell_type": "code",
   "execution_count": 10,
   "metadata": {},
   "outputs": [
    {
     "name": "stdout",
     "output_type": "stream",
     "text": [
      "🎲4\n"
     ]
    }
   ],
   "source": [
    "roll()"
   ]
  },
  {
   "cell_type": "code",
   "execution_count": 18,
   "metadata": {},
   "outputs": [
    {
     "name": "stdout",
     "output_type": "stream",
     "text": [
      "area will be 80\n"
     ]
    }
   ],
   "source": [
    "def area (l,b):\n",
    "    a = l*b\n",
    "    print(f'area will be {a}')\n",
    "area(10,8)"
   ]
  },
  {
   "cell_type": "code",
   "execution_count": 25,
   "metadata": {},
   "outputs": [
    {
     "name": "stdout",
     "output_type": "stream",
     "text": [
      "perimeter will be 36\n"
     ]
    }
   ],
   "source": [
    "# professional way  of writing a function \n",
    "def perimeter (l:int,b:int) -> None:\n",
    "    \"\"\"calculate the perimeter of a reactangle\n",
    "    \"\"\"\n",
    "    p = 2*(l+b)\n",
    "    print(f'perimeter will be {p}')\n",
    "perimeter(10,8)\n"
   ]
  },
  {
   "cell_type": "code",
   "execution_count": 27,
   "metadata": {},
   "outputs": [
    {
     "name": "stdout",
     "output_type": "stream",
     "text": [
      "perimeter will be 30\n",
      "None\n"
     ]
    }
   ],
   "source": [
    "print(perimeter(5,10))"
   ]
  },
  {
   "cell_type": "code",
   "execution_count": 26,
   "metadata": {},
   "outputs": [
    {
     "data": {
      "text/plain": [
       "[24, 57, 15, 67, 95]"
      ]
     },
     "execution_count": 26,
     "metadata": {},
     "output_type": "execute_result"
    }
   ],
   "source": [
    "def fiver ():\n",
    "    from random import choices \n",
    "    data = list (range(1,101))\n",
    "    return choices (data , k = 5)\n",
    "fiver()    "
   ]
  },
  {
   "cell_type": "code",
   "execution_count": 29,
   "metadata": {},
   "outputs": [
    {
     "name": "stdout",
     "output_type": "stream",
     "text": [
      "[28, 1, 54, 13, 67]\n"
     ]
    }
   ],
   "source": [
    "print(fiver()) # return the value thats why their is no none"
   ]
  },
  {
   "cell_type": "code",
   "execution_count": 32,
   "metadata": {},
   "outputs": [
    {
     "name": "stdout",
     "output_type": "stream",
     "text": [
      "[69, 8, 93, 56, 6]\n",
      "[68, 7, 90, 25, 63]\n"
     ]
    }
   ],
   "source": [
    "trail_1  = fiver()\n",
    "trial_2  = fiver()\n",
    "print(trail_1)\n",
    "print(trial_2)"
   ]
  },
  {
   "cell_type": "code",
   "execution_count": 47,
   "metadata": {},
   "outputs": [
    {
     "name": "stdout",
     "output_type": "stream",
     "text": [
      "78.5\n"
     ]
    }
   ],
   "source": [
    "def area( r : float):\n",
    "    a = 3.14 * r **2\n",
    "    print(a)\n",
    "area(5)"
   ]
  },
  {
   "cell_type": "markdown",
   "metadata": {},
   "source": [
    "### to remove all the vowels from a string passed as a parameter"
   ]
  },
  {
   "cell_type": "code",
   "execution_count": 48,
   "metadata": {},
   "outputs": [
    {
     "name": "stdout",
     "output_type": "stream",
     "text": [
      "vchl sxn\n"
     ]
    }
   ],
   "source": [
    "def vowel (a : str):\n",
    "    for i in 'AEIOUaeiou':\n",
    "        a = a.replace(i,'')\n",
    "    print(a)\n",
    "vowel('avichal saxena')\n",
    "        "
   ]
  },
  {
   "cell_type": "code",
   "execution_count": 66,
   "metadata": {},
   "outputs": [
    {
     "name": "stdout",
     "output_type": "stream",
     "text": [
      "th sntnc s\n"
     ]
    }
   ],
   "source": [
    "def vowel(a: str):\n",
    "    vowels = \"AEIOUaeiou\"\n",
    "    r = \"\"\n",
    "    for c in a:\n",
    "        if c not in vowels:\n",
    "            r += c\n",
    "    print(r)\n",
    "vowel(\"the sentence is\")"
   ]
  },
  {
   "cell_type": "code",
   "execution_count": 64,
   "metadata": {},
   "outputs": [
    {
     "data": {
      "text/plain": [
       "'ths s  smtnc'"
      ]
     },
     "execution_count": 64,
     "metadata": {},
     "output_type": "execute_result"
    }
   ],
   "source": [
    "def vow(a :str):\n",
    "    return a.replace('a','').replace('e','').replace('i','').replace('o','').replace('u','')\n",
    "vow(\"this is a semtence\")\n",
    "    "
   ]
  },
  {
   "cell_type": "code",
   "execution_count": 69,
   "metadata": {},
   "outputs": [
    {
     "name": "stdout",
     "output_type": "stream",
     "text": [
      "30\n",
      "60\n",
      "70\n",
      "100\n",
      "100\n",
      "100\n"
     ]
    }
   ],
   "source": [
    "def summer(a , b , c = 0 , d = 0):\n",
    "    return a + b + c + d\n",
    "print(summer(10,20))\n",
    "print(summer(10,20,30))\n",
    "print(summer(10,20,d=40))\n",
    "print(summer(10,20,d=40,c=30))\n",
    "print(summer(a = 10,b=20,c=30,d=40))\n",
    "print(summer(b=20,a = 10,d=40,c=30))\n",
    "\n"
   ]
  },
  {
   "cell_type": "markdown",
   "metadata": {},
   "source": [
    "#### lambda expression - anonymous function\n"
   ]
  },
  {
   "cell_type": "code",
   "execution_count": 71,
   "metadata": {},
   "outputs": [
    {
     "name": "stdout",
     "output_type": "stream",
     "text": [
      "<function <lambda> at 0x0000022A177AF6A0>\n",
      "10\n",
      "28\n",
      "3.5\n",
      "6.5\n",
      "5.0\n"
     ]
    }
   ],
   "source": [
    "f = lambda x: x+5*x-2\n",
    "g = lambda x,y : x+y/2\n",
    "print(f)\n",
    "print(f(2))\n",
    "print(f(5))\n",
    "print(g(2,3))\n",
    "print(g(5,3))\n",
    "print(g(3,4))\n"
   ]
  },
  {
   "cell_type": "code",
   "execution_count": null,
   "metadata": {},
   "outputs": [],
   "source": []
  }
 ],
 "metadata": {
  "kernelspec": {
   "display_name": "base",
   "language": "python",
   "name": "python3"
  },
  "language_info": {
   "codemirror_mode": {
    "name": "ipython",
    "version": 3
   },
   "file_extension": ".py",
   "mimetype": "text/x-python",
   "name": "python",
   "nbconvert_exporter": "python",
   "pygments_lexer": "ipython3",
   "version": "3.12.3"
  }
 },
 "nbformat": 4,
 "nbformat_minor": 2
}
