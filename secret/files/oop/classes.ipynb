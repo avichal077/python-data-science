{
 "cells": [
  {
   "cell_type": "code",
   "execution_count": 6,
   "metadata": {},
   "outputs": [
    {
     "name": "stdout",
     "output_type": "stream",
     "text": [
      "hello <class 'str'>\n"
     ]
    }
   ],
   "source": [
    "a = 'hello'\n",
    "print(a,type(a))"
   ]
  },
  {
   "cell_type": "code",
   "execution_count": 7,
   "metadata": {},
   "outputs": [
    {
     "ename": "IndentationError",
     "evalue": "unexpected indent (2799837126.py, line 7)",
     "output_type": "error",
     "traceback": [
      "\u001b[1;36m  Cell \u001b[1;32mIn[7], line 7\u001b[1;36m\u001b[0m\n\u001b[1;33m    def show(self):\u001b[0m\n\u001b[1;37m    ^\u001b[0m\n\u001b[1;31mIndentationError\u001b[0m\u001b[1;31m:\u001b[0m unexpected indent\n"
     ]
    }
   ],
   "source": [
    "class Pen:\n",
    "    shape = None\n",
    "    color = None\n",
    "    material = None\n",
    "    type = None\n",
    "     \n",
    "     def show(self):\n",
    "        print(\"this is a pen\")\n"
   ]
  },
  {
   "cell_type": "code",
   "execution_count": 9,
   "metadata": {},
   "outputs": [
    {
     "ename": "NameError",
     "evalue": "name 'Pen' is not defined",
     "output_type": "error",
     "traceback": [
      "\u001b[1;31m---------------------------------------------------------------------------\u001b[0m",
      "\u001b[1;31mNameError\u001b[0m                                 Traceback (most recent call last)",
      "Cell \u001b[1;32mIn[9], line 1\u001b[0m\n\u001b[1;32m----> 1\u001b[0m P1 \u001b[38;5;241m=\u001b[39m \u001b[43mPen\u001b[49m()\n\u001b[0;32m      2\u001b[0m p2\u001b[38;5;241m=\u001b[39m Pen()\n\u001b[0;32m      3\u001b[0m \u001b[38;5;28mprint\u001b[39m(P1)\n",
      "\u001b[1;31mNameError\u001b[0m: name 'Pen' is not defined"
     ]
    }
   ],
   "source": [
    "p1 = Pen() #create  an object of pen class\n",
    "p2= Pen()\n",
    "print(P1)\n",
    "print(p2)\n",
    "p1.show()# calling a method of pen class \n",
    "p2.show()\n",
    "p1.shape = 'cylinder'# setting the value of shape attribute \n",
    "p2.shape = 'hexagon'\n",
    "p1.color= ' blue'\n",
    "p2.color = 'red'\n",
    "p1.material = 'plastic'\n",
    "p2.material = 'metal '\n",
    "p1.type = 'ballpoint'\n",
    "p2.type = 'gelpen'\n",
    "print(p1.shape,p1.color,p1.material,p1.type)\n"
   ]
  },
  {
   "cell_type": "code",
   "execution_count": 24,
   "metadata": {},
   "outputs": [],
   "source": [
    "class Student:\n",
    "    def __init__(self, nm, course, college, gender='F' ) -> None:\n",
    "        #instance variables \n",
    "        self.name = nm\n",
    "        self.course = course \n",
    "        self.college = college\n",
    "        self.gender = gender\n",
    "        self.skills = []\n",
    "\n",
    "    def show(self):\n",
    "        print('student name:',self.name)\n",
    "        print('course:',self.course)\n",
    "        print('college:',self.college)\n",
    "        print('gender:',self.gender)\n",
    "        print('skills:',*self.skills)\n",
    "    \n",
    "    def add_skill(self,new_skill):\n",
    "        self.skills.append(new_skill)"
   ]
  },
  {
   "cell_type": "code",
   "execution_count": 25,
   "metadata": {},
   "outputs": [
    {
     "name": "stdout",
     "output_type": "stream",
     "text": [
      "student name: krish\n",
      "course: btech\n",
      "college: amity\n",
      "gender: m\n",
      "skills: coding strategy\n",
      "student name: shaurya\n",
      "course: btech\n",
      "college: mit\n",
      "gender: m\n",
      "skills: lawn tennis table tenis\n",
      "student name: srishti\n",
      "course: btech\n",
      "college: srmu\n",
      "gender: f\n",
      "skills: singing dance\n"
     ]
    }
   ],
   "source": [
    "s1 = Student('krish','btech','amity','m')\n",
    "s2 = Student('shaurya','btech','mit','m')\n",
    "s3 = Student('srishti','btech','srmu','f')\n",
    "s1.add_skill(\"coding\")\n",
    "s1.add_skill(\"strategy\")\n",
    "s2.add_skill(\"lawn tennis\")\n",
    "s2.add_skill(\"table tenis\")\n",
    "s3.add_skill(\"singing\")\n",
    "s3.add_skill(\"dance\")\n",
    "s1.show()\n",
    "s2.show()\n",
    "s3.show()"
   ]
  },
  {
   "cell_type": "markdown",
   "metadata": {},
   "source": [
    "### data class\n",
    "- `data class` is a class that only contains data , no functions "
   ]
  },
  {
   "cell_type": "code",
   "execution_count": 26,
   "metadata": {},
   "outputs": [],
   "source": [
    "from dataclasses import dataclass"
   ]
  },
  {
   "cell_type": "code",
   "execution_count": 27,
   "metadata": {},
   "outputs": [],
   "source": [
    "@dataclass\n",
    "class Employee:\n",
    "    name: str\n",
    "    designation : str\n",
    "    salary: float"
   ]
  },
  {
   "cell_type": "code",
   "execution_count": 28,
   "metadata": {},
   "outputs": [
    {
     "name": "stdout",
     "output_type": "stream",
     "text": [
      "Employee(name='sam', designation='manager', salary=50000)\n",
      "Employee(name='kim', designation='manager', salary=30000)\n",
      "sam\n"
     ]
    }
   ],
   "source": [
    "e1 = Employee('sam','manager',50000)\n",
    "e2 = Employee('kim','manager',30000)\n",
    "print(e1)\n",
    "print(e2)\n",
    "print(e1.name)\n"
   ]
  },
  {
   "cell_type": "code",
   "execution_count": 29,
   "metadata": {},
   "outputs": [],
   "source": [
    "class backbencher(Student):\n",
    "    pass"
   ]
  },
  {
   "cell_type": "code",
   "execution_count": 31,
   "metadata": {},
   "outputs": [
    {
     "name": "stdout",
     "output_type": "stream",
     "text": [
      "student name: rahul\n",
      "course: btech\n",
      "college: amity\n",
      "gender: m\n",
      "skills: sleeping\n"
     ]
    }
   ],
   "source": [
    "b1 = backbencher('rahul','btech','amity','m')\n",
    "b1.add_skill('sleeping')\n",
    "b1.show()"
   ]
  },
  {
   "cell_type": "code",
   "execution_count": null,
   "metadata": {},
   "outputs": [],
   "source": []
  }
 ],
 "metadata": {
  "kernelspec": {
   "display_name": "base",
   "language": "python",
   "name": "python3"
  },
  "language_info": {
   "codemirror_mode": {
    "name": "ipython",
    "version": 3
   },
   "file_extension": ".py",
   "mimetype": "text/x-python",
   "name": "python",
   "nbconvert_exporter": "python",
   "pygments_lexer": "ipython3",
   "version": "3.12.3"
  }
 },
 "nbformat": 4,
 "nbformat_minor": 2
}
