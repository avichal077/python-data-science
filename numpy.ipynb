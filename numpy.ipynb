{
 "cells": [
  {
   "cell_type": "code",
   "execution_count": 16,
   "metadata": {},
   "outputs": [
    {
     "name": "stdout",
     "output_type": "stream",
     "text": [
      "[1 2 3 4 5] [ 6  7  8  9 10]\n",
      "<class 'numpy.ndarray'>\n",
      "<class 'numpy.ndarray'>\n"
     ]
    }
   ],
   "source": [
    "import numpy as np \n",
    "a = np.array([1,2,3,4,5])\n",
    "b = np.array([6,7,8,9,10])\n",
    "print(a,b)\n",
    "print(type(a))\n",
    "print(type(b))"
   ]
  },
  {
   "cell_type": "code",
   "execution_count": 17,
   "metadata": {},
   "outputs": [
    {
     "name": "stdout",
     "output_type": "stream",
     "text": [
      "[ 7  9 11 13 15]\n",
      "[ 6 14 24 36 50]\n",
      "[-5 -5 -5 -5 -5]\n"
     ]
    }
   ],
   "source": [
    "print(a+b)\n",
    "print(a*b)\n",
    "print(a-b)"
   ]
  },
  {
   "cell_type": "code",
   "execution_count": 33,
   "metadata": {},
   "outputs": [
    {
     "name": "stdout",
     "output_type": "stream",
     "text": [
      "[[1 2]\n",
      " [2 4]\n",
      " [1 4]]\n"
     ]
    }
   ],
   "source": [
    "n2 = np.array([[1,2],[2,4],[1,4]])\n",
    "print(n2)"
   ]
  },
  {
   "cell_type": "code",
   "execution_count": 35,
   "metadata": {},
   "outputs": [
    {
     "name": "stdout",
     "output_type": "stream",
     "text": [
      "2\n",
      "2\n",
      "int32\n"
     ]
    }
   ],
   "source": [
    "print(n2.shape[1])# no. of rows and column\n",
    "print(n2.ndim)#no. of dimension\n",
    "print(n2.dtype)#data type of the element\n",
    "\n"
   ]
  },
  {
   "cell_type": "code",
   "execution_count": 20,
   "metadata": {},
   "outputs": [
    {
     "data": {
      "text/plain": [
       "array([ 1,  6, 11, 16, 21, 26, 31, 36, 41, 46, 51, 56, 61, 66, 71, 76, 81,\n",
       "       86, 91, 96])"
      ]
     },
     "execution_count": 20,
     "metadata": {},
     "output_type": "execute_result"
    }
   ],
   "source": [
    "np.arange(1,100,5)# for range "
   ]
  },
  {
   "cell_type": "code",
   "execution_count": 25,
   "metadata": {},
   "outputs": [
    {
     "name": "stdout",
     "output_type": "stream",
     "text": [
      "[[1 4 8]\n",
      " [7 5 5]]\n"
     ]
    }
   ],
   "source": [
    "a = np.random.randint(1,10,size=(2,3))\n",
    "print(a)\n"
   ]
  },
  {
   "cell_type": "code",
   "execution_count": 43,
   "metadata": {},
   "outputs": [
    {
     "name": "stdout",
     "output_type": "stream",
     "text": [
      "[[1 2 3]\n",
      " [2 4 3]\n",
      " [1 4 3]]\n",
      "[[1 2 3]\n",
      " [2 4 3]\n",
      " [1 4 3]]\n"
     ]
    }
   ],
   "source": [
    "x = np.array([[1,2,3],[2,4,3],[1,4,3]])\n",
    "y = np.array([[1,2,3],[2,4,3],[1,4,3]])\n",
    "print(x)\n",
    "print(y)"
   ]
  },
  {
   "cell_type": "code",
   "execution_count": 44,
   "metadata": {},
   "outputs": [
    {
     "name": "stdout",
     "output_type": "stream",
     "text": [
      "[[2 4 6]\n",
      " [4 8 6]\n",
      " [2 8 6]]\n",
      "[[ 1  4  9]\n",
      " [ 4 16  9]\n",
      " [ 1 16  9]]\n",
      "[[ 8 22 18]\n",
      " [13 32 27]\n",
      " [12 30 24]]\n"
     ]
    }
   ],
   "source": [
    "print(x+y)\n",
    "print(x*y) # multiple\n",
    "print(x@y)"
   ]
  },
  {
   "cell_type": "code",
   "execution_count": 45,
   "metadata": {},
   "outputs": [
    {
     "data": {
      "text/plain": [
       "array([2.        , 3.        , 2.66666667])"
      ]
     },
     "execution_count": 45,
     "metadata": {},
     "output_type": "execute_result"
    }
   ],
   "source": [
    "x.mean(axis = 1)"
   ]
  },
  {
   "cell_type": "code",
   "execution_count": 46,
   "metadata": {},
   "outputs": [
    {
     "data": {
      "text/plain": [
       "2.5555555555555554"
      ]
     },
     "execution_count": 46,
     "metadata": {},
     "output_type": "execute_result"
    }
   ],
   "source": [
    "x.mean()"
   ]
  },
  {
   "cell_type": "code",
   "execution_count": 47,
   "metadata": {},
   "outputs": [
    {
     "data": {
      "text/plain": [
       "1728"
      ]
     },
     "execution_count": 47,
     "metadata": {},
     "output_type": "execute_result"
    }
   ],
   "source": [
    "x.prod()# product"
   ]
  },
  {
   "cell_type": "code",
   "execution_count": 48,
   "metadata": {},
   "outputs": [
    {
     "name": "stdout",
     "output_type": "stream",
     "text": [
      "1\n"
     ]
    }
   ],
   "source": [
    "print(x.min())"
   ]
  },
  {
   "cell_type": "code",
   "execution_count": 51,
   "metadata": {},
   "outputs": [
    {
     "name": "stdout",
     "output_type": "stream",
     "text": [
      "[1 2 1]\n"
     ]
    }
   ],
   "source": [
    "print(x.min(axis = 1))# minimum row value"
   ]
  },
  {
   "cell_type": "code",
   "execution_count": 53,
   "metadata": {},
   "outputs": [
    {
     "name": "stdout",
     "output_type": "stream",
     "text": [
      "[1 2 3]\n"
     ]
    }
   ],
   "source": [
    "print(x.min(axis = 0))#minimum column value"
   ]
  },
  {
   "cell_type": "code",
   "execution_count": 54,
   "metadata": {},
   "outputs": [
    {
     "name": "stdout",
     "output_type": "stream",
     "text": [
      "23\n",
      "1.0657403385139377\n",
      "1.1358024691358024\n"
     ]
    }
   ],
   "source": [
    "print(x.sum())\n",
    "print(x.std())\n",
    "print(x.var())"
   ]
  },
  {
   "cell_type": "code",
   "execution_count": 55,
   "metadata": {},
   "outputs": [
    {
     "name": "stdout",
     "output_type": "stream",
     "text": [
      "5.0\n",
      "3.0\n",
      "7.0\n"
     ]
    }
   ],
   "source": [
    "a = np.array([1,2,3,4,5,6,7,8,9])\n",
    "print(np.percentile(a,50))# 50%\n",
    "print(np.percentile(a,25))# 25% or 1/4\n",
    "print(np.percentile(a,75))#3 75% or 3/4"
   ]
  },
  {
   "cell_type": "code",
   "execution_count": 57,
   "metadata": {},
   "outputs": [
    {
     "name": "stdout",
     "output_type": "stream",
     "text": [
      "[1 2 3 4]\n"
     ]
    }
   ],
   "source": [
    "print(np.unique(x))# repeated value get removed"
   ]
  },
  {
   "cell_type": "code",
   "execution_count": 59,
   "metadata": {},
   "outputs": [
    {
     "name": "stdout",
     "output_type": "stream",
     "text": [
      "[[25 94 25 79]\n",
      " [83 92 47 23]\n",
      " [78 63 49 84]\n",
      " [87 16 50 76]]\n",
      "2X8\n",
      "[[25 94 25 79 83 92 47 23]\n",
      " [78 63 49 84 87 16 50 76]]\n",
      "2X4\n",
      "[[[25 94 25 79]\n",
      "  [83 92 47 23]]\n",
      "\n",
      " [[78 63 49 84]\n",
      "  [87 16 50 76]]]\n"
     ]
    }
   ],
   "source": [
    "# reshape the array\n",
    "a = np.random.randint(11,100,(4,4))\n",
    "print(a)\n",
    "print('2X8')\n",
    "print(a.reshape(2,8))\n",
    "print('2X4')\n",
    "print(a.reshape(2,2,4))\n",
    "\n"
   ]
  },
  {
   "cell_type": "code",
   "execution_count": null,
   "metadata": {},
   "outputs": [],
   "source": []
  }
 ],
 "metadata": {
  "kernelspec": {
   "display_name": "base",
   "language": "python",
   "name": "python3"
  },
  "language_info": {
   "codemirror_mode": {
    "name": "ipython",
    "version": 3
   },
   "file_extension": ".py",
   "mimetype": "text/x-python",
   "name": "python",
   "nbconvert_exporter": "python",
   "pygments_lexer": "ipython3",
   "version": "3.12.3"
  }
 },
 "nbformat": 4,
 "nbformat_minor": 2
}
