{
 "cells": [
  {
   "cell_type": "markdown",
   "metadata": {},
   "source": [
    "# programming flow\n",
    "- conditional flow \n",
    "   - if\n",
    "   - if else \n",
    "   - if elif else\n",
    "   - match case\n",
    "- iterative flow \n",
    "   - for loop\n",
    "   - while loop     "
   ]
  },
  {
   "cell_type": "code",
   "execution_count": 1,
   "metadata": {},
   "outputs": [
    {
     "name": "stdout",
     "output_type": "stream",
     "text": [
      "hello everyone\n"
     ]
    }
   ],
   "source": [
    "if 'hello':\n",
    "    print('hello everyone')"
   ]
  },
  {
   "cell_type": "code",
   "execution_count": 2,
   "metadata": {},
   "outputs": [
    {
     "name": "stdout",
     "output_type": "stream",
     "text": [
      "hello everyone\n"
     ]
    }
   ],
   "source": [
    "x ='hello'\n",
    "if len(x)>= 5:\n",
    "    print('hello everyone')"
   ]
  },
  {
   "cell_type": "code",
   "execution_count": 8,
   "metadata": {},
   "outputs": [],
   "source": [
    "a = int(input(\"enter a number\"))\n",
    "if a * 2 > 100 :\n",
    "    print('a * 2 is greater than 100')\n",
    "if a + 50 > 100 :\n",
    "    print('a + 50 is greater than 100')    "
   ]
  },
  {
   "cell_type": "code",
   "execution_count": 11,
   "metadata": {},
   "outputs": [
    {
     "name": "stdout",
     "output_type": "stream",
     "text": [
      "x is even\n"
     ]
    }
   ],
   "source": [
    "x = int (input('enter a number'))\n",
    "if x % 2 == 0:\n",
    "    print('x is even')\n",
    "else :    \n",
    "    print('x is odd')"
   ]
  },
  {
   "cell_type": "markdown",
   "metadata": {},
   "source": [
    "wap to find out the total salary of the empployee based on the following data\n",
    "``` \n",
    "salary : user inputted \n",
    "hra = 5%\n",
    "da = 3.3%\n",
    "ta = 2.61%\n",
    "```\n",
    "`total = salary + da + ta + hra`\n",
    " \n",
    "*rule* \n",
    "`if hra is less than 1000 then dont add hra to tatal`"
   ]
  },
  {
   "cell_type": "code",
   "execution_count": 1,
   "metadata": {},
   "outputs": [
    {
     "name": "stdout",
     "output_type": "stream",
     "text": [
      "THE TOTAL SALARY IS = 2736885.0333000002\n"
     ]
    }
   ],
   "source": [
    "salary = int (input(\"enter the salary of the employee\"))\n",
    "hra= salary*0.05\n",
    "da=salary*0.033\n",
    "ta=0.0261*salary\n",
    "if hra<1000 :\n",
    "    total=salary+da+ta\n",
    "else :\n",
    "      total=salary+da+ta+hra\n",
    "print(\"THE TOTAL SALARY IS =\",total)"
   ]
  },
  {
   "cell_type": "code",
   "execution_count": 3,
   "metadata": {},
   "outputs": [
    {
     "name": "stdout",
     "output_type": "stream",
     "text": [
      "movie :geek girl\n",
      "⭐⭐⭐⭐(good)\n"
     ]
    }
   ],
   "source": [
    "name = input (\"which movie you watched\")\n",
    "num = int(input('enter the movie rating'))\n",
    "print(f\"movie :{name}\")\n",
    "if num == 1: \n",
    "    print('⭐(terrile)')\n",
    "elif num == 2:\n",
    "    print('⭐⭐(bad)')\n",
    "elif num == 3:\n",
    "    print('⭐⭐⭐(average)')\n",
    "elif num == 4:\n",
    "    print('⭐⭐⭐⭐(good)')\n",
    "elif num == 5:\n",
    "    print('⭐⭐⭐⭐⭐(excellent)')\n",
    "else :\n",
    "    print('invalid')"
   ]
  },
  {
   "cell_type": "code",
   "execution_count": 6,
   "metadata": {},
   "outputs": [
    {
     "name": "stdout",
     "output_type": "stream",
     "text": [
      "movie :geek girl\n",
      "⭐⭐⭐⭐(good)\n"
     ]
    }
   ],
   "source": [
    "name = input (\"which movie you watched\")\n",
    "num_str = (input('enter the movie rating'))\n",
    "if num_str.isnumeric():\n",
    "    num= int(num_str)\n",
    "    print(f\"movie :{name}\")\n",
    "    if num == 1: \n",
    "        print('⭐(terrile)')\n",
    "    elif num == 2:\n",
    "        print('⭐⭐(bad)')\n",
    "    elif num == 3:\n",
    "        print('⭐⭐⭐(average)')\n",
    "    elif num == 4:\n",
    "        print('⭐⭐⭐⭐(good)')\n",
    "    elif num == 5:\n",
    "        print('⭐⭐⭐⭐⭐(excellent)')\n",
    "    else :\n",
    "        print('invalid')\n",
    "else :\n",
    "    print('you are stupid, just watch the movie')"
   ]
  },
  {
   "cell_type": "markdown",
   "metadata": {},
   "source": [
    "### match case"
   ]
  },
  {
   "cell_type": "code",
   "execution_count": 8,
   "metadata": {},
   "outputs": [
    {
     "name": "stdout",
     "output_type": "stream",
     "text": [
      "class will happen\n"
     ]
    }
   ],
   "source": [
    "day = input('enter a day of the week ')\n",
    "match day :\n",
    "    case 'monday':\n",
    "        print('class will happen')\n",
    "    case 'tuesday':\n",
    "        print('class will happen')\n",
    "    case 'thursday':\n",
    "        print('class will not happen')\n",
    "    case 'sunday':\n",
    "        print('holiday')\n"
   ]
  },
  {
   "cell_type": "code",
   "execution_count": 10,
   "metadata": {},
   "outputs": [],
   "source": [
    "# another alternative\n",
    "day = input('enter a day of the week ')\n",
    "match day :\n",
    "    case 'monday'|'tuesday'|'wednesday'|'friday':\n",
    "        print('class will happen')\n",
    "    case 'thursday':\n",
    "        print('class will not happen')\n",
    "    case 'sunday'|'saturday':\n",
    "        print('holiday')\n",
    "    case_: # default case\n",
    "        print('ivalid choice')"
   ]
  },
  {
   "cell_type": "code",
   "execution_count": 12,
   "metadata": {},
   "outputs": [
    {
     "name": "stdout",
     "output_type": "stream",
     "text": [
      "above 100\n"
     ]
    }
   ],
   "source": [
    "x = int (input('enter the number '))\n",
    "print(\"above 100\") if x > 100 else print (\"below 100\")\n"
   ]
  },
  {
   "cell_type": "markdown",
   "metadata": {},
   "source": [
    "#### for loop \n",
    "\n",
    "- step base\n",
    "- traversal #for data atraction\n",
    "``` \n",
    "for variable in iterable:\n",
    "    statement...\n",
    "```    \n",
    "#### while loop \n",
    "\n",
    "- conditional based \n",
    "\n"
   ]
  },
  {
   "cell_type": "code",
   "execution_count": 14,
   "metadata": {},
   "outputs": [
    {
     "name": "stdout",
     "output_type": "stream",
     "text": [
      "h\n",
      "e\n",
      "l\n",
      "l\n",
      "o\n",
      "o\n",
      "o\n"
     ]
    }
   ],
   "source": [
    "for v in 'hellooo':\n",
    "    print(v)\n"
   ]
  },
  {
   "cell_type": "code",
   "execution_count": 15,
   "metadata": {},
   "outputs": [
    {
     "name": "stdout",
     "output_type": "stream",
     "text": [
      "red\n",
      "blue\n",
      "green\n"
     ]
    }
   ],
   "source": [
    "colour = ['red','blue','green']\n",
    "for i  in colour:\n",
    "    print(i)"
   ]
  },
  {
   "cell_type": "code",
   "execution_count": 16,
   "metadata": {},
   "outputs": [
    {
     "name": "stdout",
     "output_type": "stream",
     "text": [
      "0 red\n",
      "1 blue\n",
      "2 green\n"
     ]
    }
   ],
   "source": [
    "# index and value \n",
    "for i , v in enumerate(colour):\n",
    "    print(i,v)"
   ]
  },
  {
   "cell_type": "code",
   "execution_count": 2,
   "metadata": {},
   "outputs": [
    {
     "name": "stdout",
     "output_type": "stream",
     "text": [
      "        12 => 120\n",
      "        42 => 420\n",
      "        54 => 540\n",
      "        53 => 530\n",
      "         6 => 60\n",
      "         4 => 40\n",
      "        43 => 430\n",
      "        65 => 650\n"
     ]
    }
   ],
   "source": [
    "numlist = [12,42,54,53,6,4,43,65]\n",
    "for num in numlist:\n",
    "    print(f'{num:10} => {num *10}')"
   ]
  },
  {
   "cell_type": "code",
   "execution_count": 3,
   "metadata": {},
   "outputs": [
    {
     "name": "stdout",
     "output_type": "stream",
     "text": [
      "13*1=65\n",
      "13*2=130\n",
      "13*3=195\n",
      "13*4=260\n",
      "13*5=325\n",
      "13*6=390\n",
      "13*7=455\n",
      "13*8=520\n",
      "13*9=585\n",
      "13*10=650\n",
      "13*11=715\n"
     ]
    }
   ],
   "source": [
    "for i in range(1,12): #  range(a,b,c)  starts with a update of c\n",
    "    print(f'{13}*{i}={num*i}')"
   ]
  },
  {
   "cell_type": "code",
   "execution_count": 5,
   "metadata": {},
   "outputs": [
    {
     "name": "stdout",
     "output_type": "stream",
     "text": [
      "1\n",
      "3\n",
      "5\n",
      "7\n",
      "9\n",
      "11\n",
      "13\n",
      "15\n",
      "17\n",
      "19\n",
      "21\n",
      "23\n",
      "25\n",
      "27\n",
      "29\n",
      "31\n",
      "33\n",
      "35\n",
      "37\n",
      "39\n",
      "41\n",
      "43\n",
      "45\n",
      "47\n",
      "49\n",
      "51\n",
      "53\n",
      "55\n",
      "57\n",
      "59\n",
      "61\n",
      "63\n",
      "65\n",
      "67\n",
      "69\n",
      "71\n",
      "73\n",
      "75\n",
      "77\n",
      "79\n",
      "81\n",
      "83\n",
      "85\n",
      "87\n",
      "89\n",
      "91\n",
      "93\n",
      "95\n",
      "97\n",
      "99\n"
     ]
    }
   ],
   "source": [
    "for i in range(1,101,2):\n",
    " print(i)"
   ]
  },
  {
   "cell_type": "code",
   "execution_count": 6,
   "metadata": {},
   "outputs": [
    {
     "name": "stdout",
     "output_type": "stream",
     "text": [
      "10\n",
      "9\n",
      "8\n",
      "7\n",
      "6\n",
      "5\n",
      "4\n",
      "3\n",
      "2\n",
      "1\n"
     ]
    }
   ],
   "source": [
    "for i in range(10,0,-1):\n",
    "    print(i)"
   ]
  },
  {
   "cell_type": "code",
   "execution_count": 9,
   "metadata": {},
   "outputs": [
    {
     "name": "stdout",
     "output_type": "stream",
     "text": [
      "35    =>   350\n",
      "3     =>    30\n",
      "5     =>    50\n",
      "53    =>   530\n",
      "535   =>  5350\n",
      "56    =>   560\n"
     ]
    }
   ],
   "source": [
    "nmlist={56,53,35,3,535,3,5,3}\n",
    "for num in nmlist:\n",
    "     print(f'{num:<5} => {num*10:5}')"
   ]
  },
  {
   "cell_type": "code",
   "execution_count": 28,
   "metadata": {},
   "outputs": [
    {
     "name": "stdout",
     "output_type": "stream",
     "text": [
      "1 2 3 \n",
      "1 2 3 \n",
      "1 2 3 \n",
      "1 2 3 \n",
      "1 2 3 \n",
      "1 2 3 \n",
      "1 2 3 \n",
      "1 2 3 \n",
      "1 2 3 \n",
      "1 2 3 \n"
     ]
    }
   ],
   "source": [
    "for i in range(1,11):\n",
    "    for j in range (1,4):\n",
    "        print (j, end=\" \")\n",
    "    print()"
   ]
  },
  {
   "cell_type": "code",
   "execution_count": 32,
   "metadata": {},
   "outputs": [
    {
     "name": "stdout",
     "output_type": "stream",
     "text": [
      "1 avi 25 \n",
      "2 ayush 22 \n",
      "3 div 24 \n"
     ]
    }
   ],
   "source": [
    "cdata = [ [1, 'avi',25],\n",
    "         [2,'ayush',22],\n",
    "         [3,'div',24]\n",
    "         ]\n",
    "for r in cdata :\n",
    "    for j in r :\n",
    "        print(j , end=\" \")\n",
    "    print()"
   ]
  },
  {
   "cell_type": "code",
   "execution_count": 45,
   "metadata": {},
   "outputs": [
    {
     "name": "stdout",
     "output_type": "stream",
     "text": [
      "21⭐12⭐2⭐\n",
      "32⭐54⭐53⭐\n",
      "32⭐75⭐97⭐\n",
      "\n",
      "56⭐64⭐76⭐\n",
      "86⭐87⭐46⭐\n",
      "\n"
     ]
    }
   ],
   "source": [
    "more_data = [ [[21,12,2,],[32,54,53],[32,75,97]],\n",
    "             [[56,64,76,],[86,87,46]]]\n",
    "for i in more_data :\n",
    "    for j in i :\n",
    "        for k in j:\n",
    "           print(k , end=\"⭐\")\n",
    "        print()  \n",
    "    print()\n",
    "\n",
    "\n",
    "\n"
   ]
  },
  {
   "cell_type": "code",
   "execution_count": 46,
   "metadata": {},
   "outputs": [
    {
     "name": "stdout",
     "output_type": "stream",
     "text": [
      "1\n",
      "3\n",
      "2\n",
      "453\n",
      "64\n",
      "7\n",
      "loop completed\n"
     ]
    }
   ],
   "source": [
    "x = [1,3,2,453,64,7,-1,33,4,2]\n",
    "for i in x :\n",
    "    if i < 0:\n",
    "        break\n",
    "    print(i)\n",
    "print('loop completed')"
   ]
  },
  {
   "cell_type": "code",
   "execution_count": 51,
   "metadata": {},
   "outputs": [
    {
     "name": "stdout",
     "output_type": "stream",
     "text": [
      "1 2 4 2 5 5 78 66 \n",
      "alternative way\n",
      "1 2 4 2 5 5 78 66 "
     ]
    }
   ],
   "source": [
    "data = [1,2,4,2,5,'4',5,78,'8','96',66]\n",
    "for i in data :\n",
    "    if isinstance(i,str):\n",
    "        continue\n",
    "    print(i, end =' ')\n",
    "\n",
    "#############alternative##############\n",
    "print('\\nalternative way')\n",
    "for i in data :\n",
    "    if isinstance(i , int):\n",
    "        print(i, end = \" \")    \n"
   ]
  },
  {
   "cell_type": "code",
   "execution_count": 57,
   "metadata": {},
   "outputs": [
    {
     "name": "stdout",
     "output_type": "stream",
     "text": [
      "1\n",
      "3\n",
      "4\n",
      "5\n",
      "6\n",
      "3\n",
      "4\n",
      "5\n",
      "6\n",
      "78\n",
      "8\n",
      "count : 11\n",
      "loop completed \n"
     ]
    }
   ],
   "source": [
    "data = [1,3,4,5,6,3,4,5,6,78,8,]\n",
    "stop_value= int(input(\"enter the number to stop\"))\n",
    "counter = 0\n",
    "for i in data :\n",
    "    if stop_value == i :\n",
    "        break \n",
    "    print(i)\n",
    "    counter += 1\n",
    "print(f'count : {counter}')\n",
    "if counter == len(data):\n",
    "    print(\"loop completed \")\n",
    "    "
   ]
  },
  {
   "cell_type": "code",
   "execution_count": 60,
   "metadata": {},
   "outputs": [
    {
     "name": "stdout",
     "output_type": "stream",
     "text": [
      "1\n",
      "3\n",
      "4\n",
      "loop stopped at 5\n"
     ]
    }
   ],
   "source": [
    "data = [1,3,4,5,6,3,4,5,6,78,8,]\n",
    "stop_value= int(input(\"enter the number to stop\"))\n",
    "counter = 0\n",
    "for i in data :\n",
    "    if stop_value == i :\n",
    "        print(f'loop stopped at {i}')\n",
    "        break \n",
    "    print(i)\n",
    "else:\n",
    "    print(\"loop completed \")\n",
    "    "
   ]
  },
  {
   "cell_type": "markdown",
   "metadata": {},
   "source": [
    "### while loop"
   ]
  },
  {
   "cell_type": "code",
   "execution_count": 4,
   "metadata": {},
   "outputs": [
    {
     "name": "stdout",
     "output_type": "stream",
     "text": [
      "10\n",
      "9\n",
      "8\n",
      "7\n",
      "6\n",
      "5\n",
      "4\n",
      "3\n",
      "2\n",
      "1\n"
     ]
    }
   ],
   "source": [
    "i = 10 \n",
    "while i > 0 :\n",
    "    print(i)\n",
    "    i -=1"
   ]
  },
  {
   "cell_type": "code",
   "execution_count": 17,
   "metadata": {},
   "outputs": [
    {
     "name": "stdout",
     "output_type": "stream",
     "text": [
      "6\n"
     ]
    }
   ],
   "source": [
    "# sum 0f all digits\n",
    "a = int(input(\"enter a number \"))\n",
    "s = 0\n",
    "while (a!=0):\n",
    "  s = s + a % 10  \n",
    "  a = a // 10\n",
    "print (s)"
   ]
  },
  {
   "cell_type": "code",
   "execution_count": 18,
   "metadata": {},
   "outputs": [],
   "source": [
    "print = ('hi')\n",
    "sum = 20\n",
    "del sum # delete the variable sum since it is already a method \n",
    "del print # delete the varaiable print since it is already a method\n"
   ]
  },
  {
   "cell_type": "code",
   "execution_count": null,
   "metadata": {},
   "outputs": [],
   "source": [
    "\n"
   ]
  },
  {
   "cell_type": "code",
   "execution_count": null,
   "metadata": {},
   "outputs": [],
   "source": []
  }
 ],
 "metadata": {
  "kernelspec": {
   "display_name": "base",
   "language": "python",
   "name": "python3"
  },
  "language_info": {
   "codemirror_mode": {
    "name": "ipython",
    "version": 3
   },
   "file_extension": ".py",
   "mimetype": "text/x-python",
   "name": "python",
   "nbconvert_exporter": "python",
   "pygments_lexer": "ipython3",
   "version": "3.12.3"
  }
 },
 "nbformat": 4,
 "nbformat_minor": 2
}
