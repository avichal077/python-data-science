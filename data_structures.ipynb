{
 "cells": [
  {
   "cell_type": "markdown",
   "metadata": {},
   "source": [
    "# list \n",
    "- creating \n",
    "- indexing and slicing (same as string)\n",
    "- methods \n",
    "- comprehension"
   ]
  },
  {
   "cell_type": "code",
   "execution_count": 2,
   "metadata": {},
   "outputs": [
    {
     "name": "stdout",
     "output_type": "stream",
     "text": [
      "[]\n",
      "[1, 2, 3, 4, 5]\n",
      "['apple', 'banana', 'cherry']\n",
      "['apple', 1, 'banana', 2, 'cherry', 3]\n",
      "[[1, 2, 3], [1, 5, 6]]\n",
      "[['apple', 1], ['banana', 2], ['cherry', 3]]\n"
     ]
    }
   ],
   "source": [
    "a = []                                       #empty list                                    #numberical list\n",
    "b = [1,2,3,4,5]                              #numerical list\n",
    "c =  ['apple','banana','cherry']             #string list \n",
    "d =  ['apple',1,'banana',2,'cherry',3]       #mixed list\n",
    "e = [[1,2,3],[1,5,6]]                        #list  of lists\n",
    "f = [['apple',1],['banana',2],['cherry',3]]  #mixed nested lists\n",
    "print(a)\n",
    "print(b)\n",
    "print(c)\n",
    "print(d)\n",
    "print(e)\n",
    "print(f)"
   ]
  },
  {
   "cell_type": "code",
   "execution_count": 4,
   "metadata": {},
   "outputs": [
    {
     "name": "stdout",
     "output_type": "stream",
     "text": [
      "apple\n",
      "banana\n",
      "cherry\n",
      "apple\n",
      "1\n",
      "banana\n",
      "2\n",
      "cherry\n",
      "3\n"
     ]
    }
   ],
   "source": [
    "for i in c:\n",
    "    print(i)\n",
    "for i in d:\n",
    "    print(i)"
   ]
  },
  {
   "cell_type": "code",
   "execution_count": 10,
   "metadata": {},
   "outputs": [
    {
     "name": "stdout",
     "output_type": "stream",
     "text": [
      "['h', 'e', 'l', 'l', 'o']\n",
      "[0, 1, 2, 3, 4, 5, 6, 7, 8, 9]\n",
      "[1, 2, 3, 4, 5]\n",
      "[1, 1, 1, 1, 1, 1, 1, 1, 1, 1]\n",
      "[1, 2, 3, 1, 2, 3, 1, 2, 3, 1, 2, 3, 1, 2, 3, 1, 2, 3, 1, 2, 3, 1, 2, 3, 1, 2, 3, 1, 2, 3]\n"
     ]
    }
   ],
   "source": [
    "g = list('hello')\n",
    "h = list(range(10))\n",
    "i = list((1,2,3,4,5))\n",
    "j = [1]*10  # duplicated list \n",
    "k = [1,2,3]*10 \n",
    "print(g)\n",
    "print(h)\n",
    "print(i)\n",
    "print(j)\n",
    "print(k)"
   ]
  },
  {
   "cell_type": "code",
   "execution_count": 13,
   "metadata": {},
   "outputs": [
    {
     "name": "stdout",
     "output_type": "stream",
     "text": [
      "['spider man ', 'amazing spider man', 'spider man far from home', 'spider man home coming', 'spider man no way home ']\n",
      "5\n",
      "first movie: spider man \n",
      "last movie: spider man no way home \n",
      "second movie: amazing spider man\n",
      "third movie: spider man far from home\n",
      "fourth movie: spider man home coming\n"
     ]
    }
   ],
   "source": [
    "movies = ['spider man ','amazing spider man','spider man far from home','spider man home coming','spider man no way home ']\n",
    "print(movies)\n",
    "print(len(movies))\n",
    "print(\"first movie:\",movies[0])\n",
    "print(\"last movie:\",movies[-1])\n",
    "print(\"second movie:\",movies[1])\n",
    "print(\"third movie:\",movies[2])\n",
    "print(\"fourth movie:\",movies[-2])"
   ]
  },
  {
   "cell_type": "code",
   "execution_count": 25,
   "metadata": {},
   "outputs": [
    {
     "name": "stdout",
     "output_type": "stream",
     "text": [
      "[1, 2, 3]\n",
      "[3, 4, 5, 6, 7]\n",
      "[9, 8, 7, 6, 5, 4, 3, 2, 1]\n"
     ]
    }
   ],
   "source": [
    "numbers = [1,2,3,4,5,6,7,8,9]\n",
    "print(numbers[:3])\n",
    "print(numbers[2:-2])\n",
    "print(numbers[::-1])"
   ]
  },
  {
   "cell_type": "markdown",
   "metadata": {},
   "source": [
    "#### list have  11 menthods\n",
    "- adding/updating\n",
    "  - `append()`\n",
    "  - `extend()`\n",
    "  - `insert()`\n",
    "- removing/deleting\n",
    "  - `remove()`\n",
    "  - `pop()`\n",
    "  - `clear()`\n",
    "- utility\n",
    "  - `sort()`\n",
    "  - `reverse()`\n",
    "  - `index()`\n",
    "  - `count()`\n",
    "  - `copy()`"
   ]
  },
  {
   "cell_type": "code",
   "execution_count": 29,
   "metadata": {},
   "outputs": [
    {
     "name": "stdout",
     "output_type": "stream",
     "text": [
      "fav book: ['1', '2', '3', '4', '5']\n",
      "hated book: ['5', '', '']\n"
     ]
    }
   ],
   "source": [
    "fav_books = []\n",
    "hated_books = []\n",
    "for i in range(5):\n",
    "    books = input('enter the fav book ')\n",
    "    fav_books .append(books)\n",
    "for i in range (3):\n",
    "    book = input('enter the hated book ')\n",
    "    hated_books.append(book)\n",
    "print(\"fav book:\", fav_books)\n",
    "print(\"hated book:\", hated_books)"
   ]
  },
  {
   "cell_type": "code",
   "execution_count": 34,
   "metadata": {},
   "outputs": [
    {
     "name": "stdout",
     "output_type": "stream",
     "text": [
      "['1', '2', '3', '4', '5', '6', '6', '6', '6']\n"
     ]
    }
   ],
   "source": [
    "fav_books.append('6')\n",
    "print(fav_books)"
   ]
  },
  {
   "cell_type": "code",
   "execution_count": 35,
   "metadata": {},
   "outputs": [
    {
     "name": "stdout",
     "output_type": "stream",
     "text": [
      "['1', '2', '3', '4', '5', '6', '6', '6', '6', '5', '', '']\n"
     ]
    }
   ],
   "source": [
    "books = fav_books + hated_books\n",
    "print(books)"
   ]
  },
  {
   "cell_type": "code",
   "execution_count": 37,
   "metadata": {},
   "outputs": [
    {
     "name": "stdout",
     "output_type": "stream",
     "text": [
      "['1', '2', '3', '4', '5', '6', '6', '6', '6', '5', '', '', 'q', 'w', 'e', 'q', 'w', 'e']\n",
      "total books  18\n"
     ]
    }
   ],
   "source": [
    "books.extend(['q','w','e'])\n",
    "print(books)\n",
    "print('total books ',len(books))\n"
   ]
  },
  {
   "cell_type": "code",
   "execution_count": 39,
   "metadata": {},
   "outputs": [
    {
     "name": "stdout",
     "output_type": "stream",
     "text": [
      "\u001b[1;31mSignature:\u001b[0m \u001b[0mbooks\u001b[0m\u001b[1;33m.\u001b[0m\u001b[0minsert\u001b[0m\u001b[1;33m(\u001b[0m\u001b[0mindex\u001b[0m\u001b[1;33m,\u001b[0m \u001b[0mobject\u001b[0m\u001b[1;33m,\u001b[0m \u001b[1;33m/\u001b[0m\u001b[1;33m)\u001b[0m\u001b[1;33m\u001b[0m\u001b[1;33m\u001b[0m\u001b[0m\n",
      "\u001b[1;31mDocstring:\u001b[0m Insert object before index.\n",
      "\u001b[1;31mType:\u001b[0m      builtin_function_or_method"
     ]
    }
   ],
   "source": [
    "books.insert?\n"
   ]
  },
  {
   "cell_type": "code",
   "execution_count": 40,
   "metadata": {},
   "outputs": [
    {
     "data": {
      "text/plain": [
       "['1',\n",
       " '2',\n",
       " '3',\n",
       " '4',\n",
       " '5',\n",
       " '6',\n",
       " '6',\n",
       " '69',\n",
       " '6',\n",
       " '6',\n",
       " '5',\n",
       " '',\n",
       " '',\n",
       " 'q',\n",
       " 'w',\n",
       " 'e',\n",
       " 'q',\n",
       " 'w',\n",
       " 'e',\n",
       " 'd']"
      ]
     },
     "execution_count": 40,
     "metadata": {},
     "output_type": "execute_result"
    }
   ],
   "source": [
    "books.insert(7,'69')\n",
    "books"
   ]
  },
  {
   "cell_type": "code",
   "execution_count": 45,
   "metadata": {},
   "outputs": [],
   "source": [
    "books.remove('6')\n"
   ]
  },
  {
   "cell_type": "code",
   "execution_count": 44,
   "metadata": {},
   "outputs": [
    {
     "data": {
      "text/plain": [
       "['1',\n",
       " '2',\n",
       " '3',\n",
       " '4',\n",
       " '5',\n",
       " '69',\n",
       " '6',\n",
       " '6',\n",
       " '5',\n",
       " '',\n",
       " '',\n",
       " 'q',\n",
       " 'w',\n",
       " 'e',\n",
       " 'q',\n",
       " 'w',\n",
       " 'e',\n",
       " 'd']"
      ]
     },
     "execution_count": 44,
     "metadata": {},
     "output_type": "execute_result"
    }
   ],
   "source": [
    "books.remove('6')\n",
    "books"
   ]
  },
  {
   "cell_type": "code",
   "execution_count": 48,
   "metadata": {},
   "outputs": [
    {
     "data": {
      "text/plain": [
       "''"
      ]
     },
     "execution_count": 48,
     "metadata": {},
     "output_type": "execute_result"
    }
   ],
   "source": [
    "books.pop(7)\n"
   ]
  },
  {
   "cell_type": "code",
   "execution_count": 49,
   "metadata": {},
   "outputs": [
    {
     "data": {
      "text/plain": [
       "'d'"
      ]
     },
     "execution_count": 49,
     "metadata": {},
     "output_type": "execute_result"
    }
   ],
   "source": [
    "books.pop()# remove the last element"
   ]
  },
  {
   "cell_type": "code",
   "execution_count": 51,
   "metadata": {},
   "outputs": [
    {
     "data": {
      "text/plain": [
       "[]"
      ]
     },
     "execution_count": 51,
     "metadata": {},
     "output_type": "execute_result"
    }
   ],
   "source": [
    "hated_books.clear()\n",
    "hated_books"
   ]
  },
  {
   "cell_type": "markdown",
   "metadata": {},
   "source": [
    "#### wap to create an empty list,then fill the list with 10 prime numbers using  a loop ,starting with 2"
   ]
  },
  {
   "cell_type": "markdown",
   "metadata": {},
   "source": []
  }
 ],
 "metadata": {
  "kernelspec": {
   "display_name": "base",
   "language": "python",
   "name": "python3"
  },
  "language_info": {
   "codemirror_mode": {
    "name": "ipython",
    "version": 3
   },
   "file_extension": ".py",
   "mimetype": "text/x-python",
   "name": "python",
   "nbconvert_exporter": "python",
   "pygments_lexer": "ipython3",
   "version": "3.12.3"
  }
 },
 "nbformat": 4,
 "nbformat_minor": 2
}
