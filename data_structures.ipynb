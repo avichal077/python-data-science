{
 "cells": [
  {
   "cell_type": "markdown",
   "metadata": {},
   "source": [
    "# list \n",
    "- creating \n",
    "- indexing and slicing (same as string)\n",
    "- methods \n",
    "- comprehension"
   ]
  },
  {
   "cell_type": "code",
   "execution_count": 2,
   "metadata": {},
   "outputs": [
    {
     "name": "stdout",
     "output_type": "stream",
     "text": [
      "[]\n",
      "[1, 2, 3, 4, 5]\n",
      "['apple', 'banana', 'cherry']\n",
      "['apple', 1, 'banana', 2, 'cherry', 3]\n",
      "[[1, 2, 3], [1, 5, 6]]\n",
      "[['apple', 1], ['banana', 2], ['cherry', 3]]\n"
     ]
    }
   ],
   "source": [
    "a = []                                       #empty list                                    #numberical list\n",
    "b = [1,2,3,4,5]                              #numerical list\n",
    "c =  ['apple','banana','cherry']             #string list \n",
    "d =  ['apple',1,'banana',2,'cherry',3]       #mixed list\n",
    "e = [[1,2,3],[1,5,6]]                        #list  of lists\n",
    "f = [['apple',1],['banana',2],['cherry',3]]  #mixed nested lists\n",
    "print(a)\n",
    "print(b)\n",
    "print(c)\n",
    "print(d)\n",
    "print(e)\n",
    "print(f)"
   ]
  },
  {
   "cell_type": "code",
   "execution_count": 4,
   "metadata": {},
   "outputs": [
    {
     "name": "stdout",
     "output_type": "stream",
     "text": [
      "apple\n",
      "banana\n",
      "cherry\n",
      "apple\n",
      "1\n",
      "banana\n",
      "2\n",
      "cherry\n",
      "3\n"
     ]
    }
   ],
   "source": [
    "for i in c:\n",
    "    print(i)\n",
    "for i in d:\n",
    "    print(i)"
   ]
  },
  {
   "cell_type": "code",
   "execution_count": 10,
   "metadata": {},
   "outputs": [
    {
     "name": "stdout",
     "output_type": "stream",
     "text": [
      "['h', 'e', 'l', 'l', 'o']\n",
      "[0, 1, 2, 3, 4, 5, 6, 7, 8, 9]\n",
      "[1, 2, 3, 4, 5]\n",
      "[1, 1, 1, 1, 1, 1, 1, 1, 1, 1]\n",
      "[1, 2, 3, 1, 2, 3, 1, 2, 3, 1, 2, 3, 1, 2, 3, 1, 2, 3, 1, 2, 3, 1, 2, 3, 1, 2, 3, 1, 2, 3]\n"
     ]
    }
   ],
   "source": [
    "g = list('hello')\n",
    "h = list(range(10))\n",
    "i = list((1,2,3,4,5))\n",
    "j = [1]*10  # duplicated list \n",
    "k = [1,2,3]*10 \n",
    "print(g)\n",
    "print(h)\n",
    "print(i)\n",
    "print(j)\n",
    "print(k)"
   ]
  },
  {
   "cell_type": "code",
   "execution_count": 13,
   "metadata": {},
   "outputs": [
    {
     "name": "stdout",
     "output_type": "stream",
     "text": [
      "['spider man ', 'amazing spider man', 'spider man far from home', 'spider man home coming', 'spider man no way home ']\n",
      "5\n",
      "first movie: spider man \n",
      "last movie: spider man no way home \n",
      "second movie: amazing spider man\n",
      "third movie: spider man far from home\n",
      "fourth movie: spider man home coming\n"
     ]
    }
   ],
   "source": [
    "movies = ['spider man ','amazing spider man','spider man far from home','spider man home coming','spider man no way home ']\n",
    "print(movies)\n",
    "print(len(movies))\n",
    "print(\"first movie:\",movies[0])\n",
    "print(\"last movie:\",movies[-1])\n",
    "print(\"second movie:\",movies[1])\n",
    "print(\"third movie:\",movies[2])\n",
    "print(\"fourth movie:\",movies[-2])"
   ]
  },
  {
   "cell_type": "code",
   "execution_count": 25,
   "metadata": {},
   "outputs": [
    {
     "name": "stdout",
     "output_type": "stream",
     "text": [
      "[1, 2, 3]\n",
      "[3, 4, 5, 6, 7]\n",
      "[9, 8, 7, 6, 5, 4, 3, 2, 1]\n"
     ]
    }
   ],
   "source": [
    "numbers = [1,2,3,4,5,6,7,8,9]\n",
    "print(numbers[:3])\n",
    "print(numbers[2:-2])\n",
    "print(numbers[::-1])"
   ]
  },
  {
   "cell_type": "markdown",
   "metadata": {},
   "source": [
    "#### list have  11 menthods\n",
    "- adding/updating\n",
    "  - `append()`\n",
    "  - `extend()`\n",
    "  - `insert()`\n",
    "- removing/deleting\n",
    "  - `remove()`\n",
    "  - `pop()`\n",
    "  - `clear()`\n",
    "- utility\n",
    "  - `sort()`\n",
    "  - `reverse()`\n",
    "  - `index()`\n",
    "  - `count()`\n",
    "  - `copy()`"
   ]
  },
  {
   "cell_type": "code",
   "execution_count": 29,
   "metadata": {},
   "outputs": [
    {
     "name": "stdout",
     "output_type": "stream",
     "text": [
      "fav book: ['1', '2', '3', '4', '5']\n",
      "hated book: ['5', '', '']\n"
     ]
    }
   ],
   "source": [
    "fav_books = []\n",
    "hated_books = []\n",
    "for i in range(5):\n",
    "    books = input('enter the fav book ')\n",
    "    fav_books .append(books)\n",
    "for i in range (3):\n",
    "    book = input('enter the hated book ')\n",
    "    hated_books.append(book)\n",
    "print(\"fav book:\", fav_books)\n",
    "print(\"hated book:\", hated_books)"
   ]
  },
  {
   "cell_type": "code",
   "execution_count": 34,
   "metadata": {},
   "outputs": [
    {
     "name": "stdout",
     "output_type": "stream",
     "text": [
      "['1', '2', '3', '4', '5', '6', '6', '6', '6']\n"
     ]
    }
   ],
   "source": [
    "fav_books.append('6')\n",
    "print(fav_books)"
   ]
  },
  {
   "cell_type": "code",
   "execution_count": 35,
   "metadata": {},
   "outputs": [
    {
     "name": "stdout",
     "output_type": "stream",
     "text": [
      "['1', '2', '3', '4', '5', '6', '6', '6', '6', '5', '', '']\n"
     ]
    }
   ],
   "source": [
    "books = fav_books + hated_books\n",
    "print(books)"
   ]
  },
  {
   "cell_type": "code",
   "execution_count": 37,
   "metadata": {},
   "outputs": [
    {
     "name": "stdout",
     "output_type": "stream",
     "text": [
      "['1', '2', '3', '4', '5', '6', '6', '6', '6', '5', '', '', 'q', 'w', 'e', 'q', 'w', 'e']\n",
      "total books  18\n"
     ]
    }
   ],
   "source": [
    "books.extend(['q','w','e'])\n",
    "print(books)\n",
    "print('total books ',len(books))\n"
   ]
  },
  {
   "cell_type": "code",
   "execution_count": 39,
   "metadata": {},
   "outputs": [
    {
     "name": "stdout",
     "output_type": "stream",
     "text": [
      "\u001b[1;31mSignature:\u001b[0m \u001b[0mbooks\u001b[0m\u001b[1;33m.\u001b[0m\u001b[0minsert\u001b[0m\u001b[1;33m(\u001b[0m\u001b[0mindex\u001b[0m\u001b[1;33m,\u001b[0m \u001b[0mobject\u001b[0m\u001b[1;33m,\u001b[0m \u001b[1;33m/\u001b[0m\u001b[1;33m)\u001b[0m\u001b[1;33m\u001b[0m\u001b[1;33m\u001b[0m\u001b[0m\n",
      "\u001b[1;31mDocstring:\u001b[0m Insert object before index.\n",
      "\u001b[1;31mType:\u001b[0m      builtin_function_or_method"
     ]
    }
   ],
   "source": [
    "books.insert?\n"
   ]
  },
  {
   "cell_type": "code",
   "execution_count": 40,
   "metadata": {},
   "outputs": [
    {
     "data": {
      "text/plain": [
       "['1',\n",
       " '2',\n",
       " '3',\n",
       " '4',\n",
       " '5',\n",
       " '6',\n",
       " '6',\n",
       " '69',\n",
       " '6',\n",
       " '6',\n",
       " '5',\n",
       " '',\n",
       " '',\n",
       " 'q',\n",
       " 'w',\n",
       " 'e',\n",
       " 'q',\n",
       " 'w',\n",
       " 'e',\n",
       " 'd']"
      ]
     },
     "execution_count": 40,
     "metadata": {},
     "output_type": "execute_result"
    }
   ],
   "source": [
    "books.insert(7,'69')\n",
    "books"
   ]
  },
  {
   "cell_type": "code",
   "execution_count": 45,
   "metadata": {},
   "outputs": [],
   "source": [
    "books.remove('6')\n"
   ]
  },
  {
   "cell_type": "code",
   "execution_count": 44,
   "metadata": {},
   "outputs": [
    {
     "data": {
      "text/plain": [
       "['1',\n",
       " '2',\n",
       " '3',\n",
       " '4',\n",
       " '5',\n",
       " '69',\n",
       " '6',\n",
       " '6',\n",
       " '5',\n",
       " '',\n",
       " '',\n",
       " 'q',\n",
       " 'w',\n",
       " 'e',\n",
       " 'q',\n",
       " 'w',\n",
       " 'e',\n",
       " 'd']"
      ]
     },
     "execution_count": 44,
     "metadata": {},
     "output_type": "execute_result"
    }
   ],
   "source": [
    "books.remove('6')\n",
    "books"
   ]
  },
  {
   "cell_type": "code",
   "execution_count": 48,
   "metadata": {},
   "outputs": [
    {
     "data": {
      "text/plain": [
       "''"
      ]
     },
     "execution_count": 48,
     "metadata": {},
     "output_type": "execute_result"
    }
   ],
   "source": [
    "books.pop(7)\n"
   ]
  },
  {
   "cell_type": "code",
   "execution_count": 49,
   "metadata": {},
   "outputs": [
    {
     "data": {
      "text/plain": [
       "'d'"
      ]
     },
     "execution_count": 49,
     "metadata": {},
     "output_type": "execute_result"
    }
   ],
   "source": [
    "books.pop()# remove the last element"
   ]
  },
  {
   "cell_type": "code",
   "execution_count": 51,
   "metadata": {},
   "outputs": [
    {
     "data": {
      "text/plain": [
       "[]"
      ]
     },
     "execution_count": 51,
     "metadata": {},
     "output_type": "execute_result"
    }
   ],
   "source": [
    "hated_books.clear()\n",
    "hated_books"
   ]
  },
  {
   "cell_type": "markdown",
   "metadata": {},
   "source": [
    "#### wap to create an empty list,then fill the list with 10 prime numbers using  a loop ,starting with 2"
   ]
  },
  {
   "cell_type": "code",
   "execution_count": null,
   "metadata": {},
   "outputs": [],
   "source": [
    "a  = []\n",
    "c = 0\n",
    "p = 2\n",
    "while c < 10 :\n",
    "    k = 0\n",
    "    for i in range (1,p+1):"
   ]
  },
  {
   "cell_type": "code",
   "execution_count": 1,
   "metadata": {},
   "outputs": [
    {
     "data": {
      "text/plain": [
       "[9, 8, 7, 76, 5, 5, 4, 3, 12]"
      ]
     },
     "execution_count": 1,
     "metadata": {},
     "output_type": "execute_result"
    }
   ],
   "source": [
    "numbers = [12,3,4,5,5,76,7,8,9]\n",
    "numbers[::-1]"
   ]
  },
  {
   "cell_type": "code",
   "execution_count": 2,
   "metadata": {},
   "outputs": [],
   "source": [
    "numbers = [12,3,4,5,5,76,7,8,9]\n",
    "numbers.reverse()# no returning and no parameters no return  value"
   ]
  },
  {
   "cell_type": "code",
   "execution_count": 3,
   "metadata": {},
   "outputs": [
    {
     "name": "stdout",
     "output_type": "stream",
     "text": [
      "[9, 8, 7, 76, 5, 5, 4, 3, 12]\n"
     ]
    }
   ],
   "source": [
    "print(numbers)"
   ]
  },
  {
   "cell_type": "code",
   "execution_count": 4,
   "metadata": {},
   "outputs": [],
   "source": [
    "numbers.sort()# ascending order , no return value and no parameter\n"
   ]
  },
  {
   "cell_type": "code",
   "execution_count": 5,
   "metadata": {},
   "outputs": [
    {
     "name": "stdout",
     "output_type": "stream",
     "text": [
      "[3, 4, 5, 5, 7, 8, 9, 12, 76]\n"
     ]
    }
   ],
   "source": [
    "print(numbers)"
   ]
  },
  {
   "cell_type": "code",
   "execution_count": 7,
   "metadata": {},
   "outputs": [
    {
     "name": "stdout",
     "output_type": "stream",
     "text": [
      "[76, 12, 9, 8, 7, 5, 5, 4, 3]\n"
     ]
    }
   ],
   "source": [
    "numbers.sort(reverse = True ) # decending  order \n",
    "print(numbers)"
   ]
  },
  {
   "cell_type": "code",
   "execution_count": 9,
   "metadata": {},
   "outputs": [
    {
     "name": "stdout",
     "output_type": "stream",
     "text": [
      "[[1, 2], [2, 5], [4, 11], [5, 10], [6, 12]]\n"
     ]
    }
   ],
   "source": [
    "x = [[1,2],[2,5],[5,10],[4,11],[6,12]]\n",
    "x.sort()\n",
    "print(x)\n",
    "# sort element by first number "
   ]
  },
  {
   "cell_type": "markdown",
   "metadata": {},
   "source": [
    "\n",
    "#### key  parameter"
   ]
  },
  {
   "cell_type": "code",
   "execution_count": 13,
   "metadata": {},
   "outputs": [
    {
     "name": "stdout",
     "output_type": "stream",
     "text": [
      "[[1, 2], [2, 5], [5, 10], [4, 11], [6, 12]]\n"
     ]
    }
   ],
   "source": [
    "x.sort(key = lambda e : e[1])# second element sorting \n",
    "print(x)"
   ]
  },
  {
   "cell_type": "code",
   "execution_count": 17,
   "metadata": {},
   "outputs": [
    {
     "name": "stdout",
     "output_type": "stream",
     "text": [
      "[[1, 2], [2, 5], [5, 10], [4, 11], [6, 12]]\n"
     ]
    }
   ],
   "source": [
    "x.sort(key = lambda i : sum(i))\n",
    "print(x)"
   ]
  },
  {
   "cell_type": "code",
   "execution_count": 18,
   "metadata": {},
   "outputs": [
    {
     "name": "stdout",
     "output_type": "stream",
     "text": [
      "[('bob', 19), ('alice', 25), ('alex', 35)]\n"
     ]
    }
   ],
   "source": [
    "users = [('alice',25),('bob',19),('alex',35)]\n",
    "users.sort(key = lambda i : i[1])\n",
    "print(users)"
   ]
  },
  {
   "cell_type": "code",
   "execution_count": 21,
   "metadata": {},
   "outputs": [
    {
     "name": "stdout",
     "output_type": "stream",
     "text": [
      "[['laptop', 60000, 1], ['mobile', 250000, 2], ['headphones', 48248, 2], ['watch', 497789, 3]]\n"
     ]
    }
   ],
   "source": [
    "cart = [['mobile',250000,2],['laptop',60000,1],['watch',497789,3],['headphones',48248,2]]\n",
    "cart.sort(key = lambda i : i[2])# third value\n",
    "print(cart)"
   ]
  },
  {
   "cell_type": "code",
   "execution_count": 23,
   "metadata": {},
   "outputs": [
    {
     "name": "stdout",
     "output_type": "stream",
     "text": [
      "[['laptop', 60000, 1], ['headphones', 48248, 2], ['mobile', 250000, 2], ['watch', 497789, 3]]\n"
     ]
    }
   ],
   "source": [
    "cart = [['mobile',250000,2],['laptop',60000,1],['watch',497789,3],['headphones',48248,2]]\n",
    "cart.sort(key = lambda i : i[1]*i[2])\n",
    "print(cart)"
   ]
  },
  {
   "cell_type": "code",
   "execution_count": 26,
   "metadata": {},
   "outputs": [
    {
     "data": {
      "text/plain": [
       "4"
      ]
     },
     "execution_count": 26,
     "metadata": {},
     "output_type": "execute_result"
    }
   ],
   "source": [
    "a = [1,3,3,2,5,76,57,8,69,1,3,4,1,4,42,1,]\n",
    "a.count(1)"
   ]
  },
  {
   "cell_type": "markdown",
   "metadata": {},
   "source": [
    "### index"
   ]
  },
  {
   "cell_type": "code",
   "execution_count": 30,
   "metadata": {},
   "outputs": [
    {
     "data": {
      "text/plain": [
       "5"
      ]
     },
     "execution_count": 30,
     "metadata": {},
     "output_type": "execute_result"
    }
   ],
   "source": [
    "a.index(76) # stop for the first occurence"
   ]
  },
  {
   "cell_type": "code",
   "execution_count": 32,
   "metadata": {},
   "outputs": [
    {
     "name": "stdout",
     "output_type": "stream",
     "text": [
      "[1, 2, 3, 4, 5]\n",
      "[1, 2, 3, 4, 5]\n",
      "[1, 2, 3, 4, 5]\n",
      "[1, 2, 3, 4, 5, 6, 20]\n",
      "[1, 2, 3, 4, 5, 10]\n",
      "[1, 2, 3, 4, 5, 6, 20]\n",
      "0x21990cd9180\n",
      "0x21990cd8680\n",
      "0x21990cd9180\n"
     ]
    }
   ],
   "source": [
    "a = [1,2,3,4,5]\n",
    "b = a.copy() # shallow copy  \n",
    "c =  a       # refrence copy \n",
    "print(a)\n",
    "print(b)\n",
    "print(c)\n",
    "a.append(6)\n",
    "b.append(10)\n",
    "c.append(20)\n",
    "print(a)\n",
    "print(b)\n",
    "print(c)\n",
    "print(hex(id(a)))\n",
    "print(hex(id(b)))\n",
    "print(hex(id(c)))"
   ]
  },
  {
   "cell_type": "code",
   "execution_count": 36,
   "metadata": {},
   "outputs": [
    {
     "name": "stdout",
     "output_type": "stream",
     "text": [
      "[1, 4, 9, 16, 25]\n"
     ]
    }
   ],
   "source": [
    "x = [1,2,3,4,5] \n",
    "a = list(map(lambda i:i**2,x))  \n",
    "print(a)\n",
    " "
   ]
  },
  {
   "cell_type": "markdown",
   "metadata": {},
   "source": [
    "### comprehension\n",
    "- syntax\n",
    "  - new_list = [operation loop(condition)]"
   ]
  },
  {
   "cell_type": "code",
   "execution_count": 37,
   "metadata": {},
   "outputs": [
    {
     "name": "stdout",
     "output_type": "stream",
     "text": [
      "[1, 4, 9, 16, 25]\n"
     ]
    }
   ],
   "source": [
    "x2 = [i**2 for i in x]\n",
    "print(x2)"
   ]
  },
  {
   "cell_type": "code",
   "execution_count": 39,
   "metadata": {},
   "outputs": [
    {
     "name": "stdout",
     "output_type": "stream",
     "text": [
      "[1, 2, 3, 4, 5]\n",
      "[1, 8, 27, 64, 125]\n",
      "[-4, -3, -2, -1, 0]\n",
      "[4, 16]\n"
     ]
    }
   ],
   "source": [
    "a = [1,2,3,4,5]\n",
    "a3 = [i**3 for i in a ]\n",
    "print(a)\n",
    "print(a3)\n",
    "a5 = [i-5 for i in a ]\n",
    "print(a5)\n",
    "even  = [i**2 for i in a if i % 2==0 ]\n",
    "print(even)"
   ]
  },
  {
   "cell_type": "code",
   "execution_count": 45,
   "metadata": {},
   "outputs": [],
   "source": [
    "# rookie way \n",
    "a = []\n",
    "for i in a :\n",
    "    if i % 2==0:\n",
    "         a.append(i**2)\n",
    "    "
   ]
  },
  {
   "cell_type": "code",
   "execution_count": 51,
   "metadata": {},
   "outputs": [
    {
     "name": "stdout",
     "output_type": "stream",
     "text": [
      "['a,S', 'b,b', 'c,g', 'd,w']\n",
      "['d,w ', 'd,w ', 'd,w ', 'd,w ']\n"
     ]
    }
   ],
   "source": [
    "names = ['alice Smith','bob brown','charlie green','david white']\n",
    "initials = []\n",
    "for n in names :\n",
    "    parts = n.split()\n",
    "    initials.append(f'{parts[0][0]},{parts[-1][0]}')\n",
    "print(initials)\n",
    "# comprehension\n",
    "initials = [f\"{parts[0][0]},{parts[-1][0]} \"for i in names]\n",
    "print(initials)"
   ]
  },
  {
   "cell_type": "markdown",
   "metadata": {},
   "source": [
    "### dictionary \n",
    "-  creation\n",
    "-  traversal \n",
    "-  methods \n",
    "-  comprehension\n",
    "-  sorting\n"
   ]
  },
  {
   "cell_type": "markdown",
   "metadata": {},
   "source": [
    "Syntax\n",
    "{\n",
    "    key : value, \n",
    "    key : value, \n",
    "    key : value, \n",
    "}\n",
    "key should always be unique\n",
    "key should not be duplicate and if we use then last wali value will over right the first value \n",
    "keys are immutable"
   ]
  },
  {
   "cell_type": "code",
   "execution_count": 2,
   "metadata": {},
   "outputs": [
    {
     "name": "stdout",
     "output_type": "stream",
     "text": [
      "{'apple': 'red', 'banana': 'yellow', 'cherry': 'red', 'orange': 'orange'}\n"
     ]
    }
   ],
   "source": [
    "fruits = {\n",
    "    'apple' :  'red',\n",
    "    'banana': 'yellow',\n",
    "    'cherry': 'red',\n",
    "    'orange': 'orange',\n",
    "}\n",
    "print(fruits)"
   ]
  },
  {
   "cell_type": "code",
   "execution_count": 3,
   "metadata": {},
   "outputs": [
    {
     "name": "stdout",
     "output_type": "stream",
     "text": [
      "{'lucknow': [20, 30, 40], 'delhi': [20, 4, 86], 'chennai': [60, 70, 80]}\n"
     ]
    }
   ],
   "source": [
    "temp = {\n",
    "    'lucknow':[20,30,40],\n",
    "    'delhi':[20,4,86],\n",
    "    'chennai':[60,70,80],\n",
    "}\n",
    "print(temp)"
   ]
  },
  {
   "cell_type": "code",
   "execution_count": 7,
   "metadata": {},
   "outputs": [
    {
     "data": {
      "text/plain": [
       "{}"
      ]
     },
     "execution_count": 7,
     "metadata": {},
     "output_type": "execute_result"
    }
   ],
   "source": [
    "dict()"
   ]
  },
  {
   "cell_type": "code",
   "execution_count": 11,
   "metadata": {},
   "outputs": [
    {
     "data": {
      "text/plain": [
       "{'name': 'avi', 'age': 21, 'marks': [99, 99, 99]}"
      ]
     },
     "execution_count": 11,
     "metadata": {},
     "output_type": "execute_result"
    }
   ],
   "source": [
    "dict(name = 'avi', age = 21, marks = [99,99,99])"
   ]
  },
  {
   "cell_type": "code",
   "execution_count": 13,
   "metadata": {},
   "outputs": [
    {
     "name": "stdout",
     "output_type": "stream",
     "text": [
      "{'alex': {'english': 85, 'math': 90, 'science': 88}, 'rahul': {'english': 80, 'math': 90, 'science': 88}}\n"
     ]
    }
   ],
   "source": [
    "# nested dictionary \n",
    "report = {\n",
    "    'alex': {\n",
    "        'english':85,\n",
    "        'math': 90,\n",
    "        'science':88,\n",
    "    },\n",
    "    'rahul':{\n",
    "        'english':80,\n",
    "        'math': 90,\n",
    "        'science':88,\n",
    "    },  \n",
    "}\n",
    "print(report)"
   ]
  },
  {
   "cell_type": "code",
   "execution_count": 14,
   "metadata": {},
   "outputs": [],
   "source": [
    "from pprint import pp # pretty print\n"
   ]
  },
  {
   "cell_type": "code",
   "execution_count": 15,
   "metadata": {},
   "outputs": [
    {
     "name": "stdout",
     "output_type": "stream",
     "text": [
      "{'alex': {'english': 85, 'math': 90, 'science': 88},\n",
      " 'rahul': {'english': 80, 'math': 90, 'science': 88}}\n"
     ]
    }
   ],
   "source": [
    "pp(report)"
   ]
  },
  {
   "cell_type": "code",
   "execution_count": 18,
   "metadata": {},
   "outputs": [
    {
     "data": {
      "text/plain": [
       "'yellow'"
      ]
     },
     "execution_count": 18,
     "metadata": {},
     "output_type": "execute_result"
    }
   ],
   "source": [
    "fruits['banana']"
   ]
  },
  {
   "cell_type": "code",
   "execution_count": 19,
   "metadata": {},
   "outputs": [
    {
     "data": {
      "text/plain": [
       "{'english': 85, 'math': 90, 'science': 88}"
      ]
     },
     "execution_count": 19,
     "metadata": {},
     "output_type": "execute_result"
    }
   ],
   "source": [
    "report['alex']"
   ]
  },
  {
   "cell_type": "code",
   "execution_count": 20,
   "metadata": {},
   "outputs": [
    {
     "data": {
      "text/plain": [
       "[20, 30, 40]"
      ]
     },
     "execution_count": 20,
     "metadata": {},
     "output_type": "execute_result"
    }
   ],
   "source": [
    "temp['lucknow']"
   ]
  },
  {
   "cell_type": "code",
   "execution_count": 22,
   "metadata": {},
   "outputs": [
    {
     "data": {
      "text/plain": [
       "90"
      ]
     },
     "execution_count": 22,
     "metadata": {},
     "output_type": "execute_result"
    }
   ],
   "source": [
    "report['alex']['math']"
   ]
  },
  {
   "cell_type": "code",
   "execution_count": 24,
   "metadata": {},
   "outputs": [
    {
     "name": "stdout",
     "output_type": "stream",
     "text": [
      "20\n",
      "avg temp of delhi 36.666666666666664\n"
     ]
    }
   ],
   "source": [
    "print(temp['delhi'][0])\n",
    "print('avg temp of delhi',sum(temp['delhi'])/len(temp['delhi']))"
   ]
  },
  {
   "cell_type": "code",
   "execution_count": 25,
   "metadata": {},
   "outputs": [
    {
     "name": "stdout",
     "output_type": "stream",
     "text": [
      "dict_keys(['apple', 'banana', 'cherry', 'orange'])\n",
      "dict_keys(['lucknow', 'delhi', 'chennai'])\n"
     ]
    }
   ],
   "source": [
    "# all keys of the dictionary\n",
    "print(fruits.keys())\n",
    "print(temp.keys())"
   ]
  },
  {
   "cell_type": "code",
   "execution_count": 27,
   "metadata": {},
   "outputs": [
    {
     "name": "stdout",
     "output_type": "stream",
     "text": [
      "['apple', 'banana', 'cherry', 'orange']\n"
     ]
    }
   ],
   "source": [
    "fruits_name = list(fruits.keys())\n",
    "print(fruits_name)"
   ]
  },
  {
   "cell_type": "code",
   "execution_count": 28,
   "metadata": {},
   "outputs": [
    {
     "name": "stdout",
     "output_type": "stream",
     "text": [
      "dict_values(['red', 'yellow', 'red', 'orange'])\n",
      "dict_values([[20, 30, 40], [20, 4, 86], [60, 70, 80]])\n",
      "dict_values([{'english': 85, 'math': 90, 'science': 88}, {'english': 80, 'math': 90, 'science': 88}])\n"
     ]
    }
   ],
   "source": [
    "# all value in dictionary \n",
    "print(fruits.values())\n",
    "print(temp.values())\n",
    "print(report.values())"
   ]
  },
  {
   "cell_type": "code",
   "execution_count": 30,
   "metadata": {},
   "outputs": [
    {
     "name": "stdout",
     "output_type": "stream",
     "text": [
      "apple\n",
      "banana\n",
      "cherry\n",
      "orange\n"
     ]
    }
   ],
   "source": [
    "# traversal through keys\n",
    "for item in fruits :\n",
    "    print(item)"
   ]
  },
  {
   "cell_type": "code",
   "execution_count": 34,
   "metadata": {},
   "outputs": [
    {
     "name": "stdout",
     "output_type": "stream",
     "text": [
      "apple red\n",
      "banana yellow\n",
      "cherry red\n",
      "orange orange\n"
     ]
    }
   ],
   "source": [
    "# access values uusing keys\n",
    "for key in fruits:\n",
    "    print(key, fruits[key])"
   ]
  },
  {
   "cell_type": "code",
   "execution_count": 36,
   "metadata": {},
   "outputs": [
    {
     "name": "stdout",
     "output_type": "stream",
     "text": [
      "apple red\n",
      "banana yellow\n",
      "cherry red\n",
      "orange orange\n"
     ]
    }
   ],
   "source": [
    "# traversal using .item()method\n",
    "for k,v in fruits.items():\n",
    "    print(k,v)"
   ]
  },
  {
   "cell_type": "code",
   "execution_count": 37,
   "metadata": {},
   "outputs": [
    {
     "name": "stdout",
     "output_type": "stream",
     "text": [
      "red\n",
      "yellow\n",
      "red\n",
      "orange\n"
     ]
    }
   ],
   "source": [
    "# traversal only values\n",
    "for v in fruits.values():\n",
    "    print(v)"
   ]
  },
  {
   "cell_type": "code",
   "execution_count": 40,
   "metadata": {},
   "outputs": [
    {
     "name": "stdout",
     "output_type": "stream",
     "text": [
      "alex\n",
      "english 85\n",
      "math 90\n",
      "science 88\n",
      "total marks 263\n",
      "rahul\n",
      "english 80\n",
      "math 90\n",
      "science 88\n",
      "total marks 258\n"
     ]
    }
   ],
   "source": [
    "# total marks for all student\n",
    "for student , marks in report.items():\n",
    "    print(student)\n",
    "    for subject, mark in marks.items():\n",
    "        print(subject,mark)\n",
    "    print(\"total marks\", sum(marks.values()))\n"
   ]
  },
  {
   "cell_type": "code",
   "execution_count": 41,
   "metadata": {},
   "outputs": [
    {
     "name": "stdout",
     "output_type": "stream",
     "text": [
      "{'apple': 'red',\n",
      " 'banana': 'yellow',\n",
      " 'cherry': 'red',\n",
      " 'orange': 'orange',\n",
      " 'mango': 'yellow',\n",
      " 'grapes': 'green',\n",
      " 'apples': 'red'}\n"
     ]
    }
   ],
   "source": [
    "# there is no method to add a single value to a dictionary (just a simple assingment)\n",
    "fruits ['mango']= 'yellow' # add\n",
    "fruits ['grapes']= 'green' # add\n",
    "fruits ['apples']= 'red' # add\n",
    "pp(fruits)"
   ]
  },
  {
   "cell_type": "code",
   "execution_count": 42,
   "metadata": {},
   "outputs": [
    {
     "name": "stdout",
     "output_type": "stream",
     "text": [
      "{'apple': 'red',\n",
      " 'banana': 'yellow',\n",
      " 'cherry': 'red',\n",
      " 'orange': 'orange',\n",
      " 'mango': 'yellow',\n",
      " 'grapes': 'green',\n",
      " 'apples': 'red',\n",
      " 'date': 'brown',\n",
      " 'almond': 'brown'}\n"
     ]
    }
   ],
   "source": [
    "# adding small dictionary to a big dictionsry \n",
    "dry_fruits = {'date': 'brown' ,'almond':'brown'}\n",
    "fruits.update(dry_fruits)\n",
    "pp(fruits)"
   ]
  },
  {
   "cell_type": "code",
   "execution_count": 43,
   "metadata": {},
   "outputs": [
    {
     "name": "stdout",
     "output_type": "stream",
     "text": [
      "None\n",
      "brown\n",
      "None\n",
      "red\n",
      "no value found\n"
     ]
    }
   ],
   "source": [
    "# get method --> error free way to access dictionary values\n",
    "# fruits['raisin'] # error if key not present\n",
    "print(fruits.get('raisin'))\n",
    "print(fruits.get('date'))\n",
    "print(fruits.get('Date'))\n",
    "print(fruits.get('apple','no value found'))\n",
    "print(fruits.get('gauva','no value found'))\n"
   ]
  },
  {
   "cell_type": "code",
   "execution_count": 44,
   "metadata": {},
   "outputs": [
    {
     "name": "stdout",
     "output_type": "stream",
     "text": [
      "{'apple': 'red',\n",
      " 'cherry': 'red',\n",
      " 'orange': 'orange',\n",
      " 'mango': 'yellow',\n",
      " 'grapes': 'green',\n",
      " 'apples': 'red',\n",
      " 'date': 'brown',\n",
      " 'almond': 'brown'}\n"
     ]
    }
   ],
   "source": [
    "# to remove the data \n",
    "fruits.pop('banana') #  remove by key\n",
    "pp(fruits)"
   ]
  },
  {
   "cell_type": "code",
   "execution_count": 45,
   "metadata": {},
   "outputs": [
    {
     "data": {
      "text/plain": [
       "[('almond', 'brown'),\n",
       " ('apple', 'red'),\n",
       " ('apples', 'red'),\n",
       " ('cherry', 'red'),\n",
       " ('date', 'brown'),\n",
       " ('grapes', 'green'),\n",
       " ('mango', 'yellow'),\n",
       " ('orange', 'orange')]"
      ]
     },
     "execution_count": 45,
     "metadata": {},
     "output_type": "execute_result"
    }
   ],
   "source": [
    "# sorting on keys \n",
    "sorted (fruits.items())"
   ]
  },
  {
   "cell_type": "code",
   "execution_count": 46,
   "metadata": {},
   "outputs": [
    {
     "data": {
      "text/plain": [
       "[('date', 'brown'),\n",
       " ('almond', 'brown'),\n",
       " ('grapes', 'green'),\n",
       " ('orange', 'orange'),\n",
       " ('apple', 'red'),\n",
       " ('cherry', 'red'),\n",
       " ('apples', 'red'),\n",
       " ('mango', 'yellow')]"
      ]
     },
     "execution_count": 46,
     "metadata": {},
     "output_type": "execute_result"
    }
   ],
   "source": [
    "sorted (fruits.items(),key = lambda i:i[1])"
   ]
  },
  {
   "cell_type": "code",
   "execution_count": 48,
   "metadata": {},
   "outputs": [
    {
     "data": {
      "text/plain": [
       "{'date': 'brown',\n",
       " 'almond': 'brown',\n",
       " 'grapes': 'green',\n",
       " 'orange': 'orange',\n",
       " 'apple': 'red',\n",
       " 'cherry': 'red',\n",
       " 'apples': 'red',\n",
       " 'mango': 'yellow'}"
      ]
     },
     "execution_count": 48,
     "metadata": {},
     "output_type": "execute_result"
    }
   ],
   "source": [
    "dict(sorted (fruits.items(),key = lambda i:i[1]))"
   ]
  },
  {
   "cell_type": "code",
   "execution_count": 49,
   "metadata": {},
   "outputs": [
    {
     "data": {
      "text/plain": [
       "{'mango': 'yellow',\n",
       " 'apple': 'red',\n",
       " 'cherry': 'red',\n",
       " 'apples': 'red',\n",
       " 'orange': 'orange',\n",
       " 'grapes': 'green',\n",
       " 'date': 'brown',\n",
       " 'almond': 'brown'}"
      ]
     },
     "execution_count": 49,
     "metadata": {},
     "output_type": "execute_result"
    }
   ],
   "source": [
    "dict(sorted (fruits.items(),key = lambda i:i[1], reverse = True))"
   ]
  },
  {
   "cell_type": "code",
   "execution_count": 51,
   "metadata": {},
   "outputs": [
    {
     "data": {
      "text/plain": [
       "{'apple': 'red',\n",
       " 'cherry': 'red',\n",
       " 'orange': 'orange',\n",
       " 'mango': 'yellow',\n",
       " 'grapes': 'green',\n",
       " 'apples': 'red',\n",
       " 'date': 'brown',\n",
       " 'almond': 'brown'}"
      ]
     },
     "execution_count": 51,
     "metadata": {},
     "output_type": "execute_result"
    }
   ],
   "source": [
    "fruits"
   ]
  },
  {
   "cell_type": "code",
   "execution_count": 52,
   "metadata": {},
   "outputs": [
    {
     "name": "stdout",
     "output_type": "stream",
     "text": [
      "{'apple': 'RED',\n",
      " 'cherry': 'RED',\n",
      " 'orange': 'ORANGE',\n",
      " 'mango': 'YELLOW',\n",
      " 'grapes': 'GREEN',\n",
      " 'apples': 'RED',\n",
      " 'date': 'BROWN',\n",
      " 'almond': 'BROWN'}\n"
     ]
    }
   ],
   "source": [
    "clean_fruits= {}\n",
    "for k,v in fruits.items():\n",
    "    clean_fruits[k.lower()] = v.upper()\n",
    "pp(clean_fruits)"
   ]
  },
  {
   "cell_type": "code",
   "execution_count": 54,
   "metadata": {},
   "outputs": [
    {
     "name": "stdout",
     "output_type": "stream",
     "text": [
      "{'apple': 'RED',\n",
      " 'cherry': 'RED',\n",
      " 'orange': 'ORANGE',\n",
      " 'mango': 'YELLOW',\n",
      " 'grapes': 'GREEN',\n",
      " 'apples': 'RED',\n",
      " 'date': 'BROWN',\n",
      " 'almond': 'BROWN'}\n"
     ]
    }
   ],
   "source": [
    "# the comprehension way\n",
    "clean_fruits = {k.lower():v.upper()for k,v in fruits.items()}\n",
    "pp(clean_fruits)"
   ]
  },
  {
   "cell_type": "code",
   "execution_count": 56,
   "metadata": {},
   "outputs": [
    {
     "name": "stdout",
     "output_type": "stream",
     "text": [
      "{'lucknow': 30.0, 'delhi': 36.666666666666664, 'chennai': 70.0}\n"
     ]
    }
   ],
   "source": [
    "avg_temp = {city : sum(data)/len(data) for city , data in temp.items()}\n",
    "pp(avg_temp)\n"
   ]
  },
  {
   "cell_type": "code",
   "execution_count": null,
   "metadata": {},
   "outputs": [],
   "source": []
  }
 ],
 "metadata": {
  "kernelspec": {
   "display_name": "base",
   "language": "python",
   "name": "python3"
  },
  "language_info": {
   "codemirror_mode": {
    "name": "ipython",
    "version": 3
   },
   "file_extension": ".py",
   "mimetype": "text/x-python",
   "name": "python",
   "nbconvert_exporter": "python",
   "pygments_lexer": "ipython3",
   "version": "3.12.3"
  }
 },
 "nbformat": 4,
 "nbformat_minor": 2
}
